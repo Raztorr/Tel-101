{
 "cells": [
  {
   "cell_type": "markdown",
   "metadata": {
    "colab_type": "text",
    "id": "KnAJIAL4sqXc",
    "slideshow": {
     "slide_type": "slide"
    }
   },
   "source": [
    "<div align=\"center\">\n",
    "<h2>TEL-101 Iniciación a la Programación</h2><br/>\n",
    "<h1>Ciclos</h1>\n",
    "<br/><br/>\n",
    "Prof. Nicolás Torres<br/>\n",
    "<a href=\"mailto:nicolas.torresr@usm.cl\">nicolas.torresr@usm.cl</a><br/>\n",
    "Ingeniería Civil Telemática<br/>\n",
    "Departamento de Electrónica<br/>\n",
    "Universidad Técnica Federico Santa María\n",
    "</div>"
   ]
  },
  {
   "cell_type": "markdown",
   "metadata": {
    "colab_type": "text",
    "id": "8F0jSoc0JFN1",
    "slideshow": {
     "slide_type": "slide"
    }
   },
   "source": [
    "## Estructura de Repetición ```while```\n",
    "\n",
    "La instrucción `while` ejecuta una secuencia de instrucciones mientras una condición sea verdadera. "
   ]
  },
  {
   "cell_type": "markdown",
   "metadata": {
    "slideshow": {
     "slide_type": "-"
    }
   },
   "source": [
    "**Sintaxis:**\n",
    "```python\n",
    "while <condición>: #obligatorio\n",
    "    sentencias mientras la <condición> sea verdadera\n",
    "```"
   ]
  },
  {
   "cell_type": "markdown",
   "metadata": {
    "colab_type": "text",
    "id": "b6t437drJFN2",
    "slideshow": {
     "slide_type": "-"
    }
   },
   "source": [
    "* La **Indentación** después de la instrucción `while` indica que acciones se realizarán reiterativamente mientras se cumpla la condición.\n",
    "* Cada vuelta o repetición en un ciclo es llamada **Iteración**."
   ]
  },
  {
   "cell_type": "markdown",
   "metadata": {
    "slideshow": {
     "slide_type": "slide"
    }
   },
   "source": [
    "## Ejemplo"
   ]
  },
  {
   "cell_type": "code",
   "execution_count": 1,
   "metadata": {
    "slideshow": {
     "slide_type": "-"
    }
   },
   "outputs": [
    {
     "name": "stdout",
     "output_type": "stream",
     "text": [
      "1\n",
      "2\n",
      "3\n",
      "4\n",
      "5\n",
      "6\n",
      "7\n",
      "8\n",
      "9\n",
      "Cuando i es igual a 10 la condición es falsa y no se itera más.\n"
     ]
    }
   ],
   "source": [
    "i = 1\n",
    "while i < 10:\n",
    "    print(i)\n",
    "    i += 1\n",
    "print(\"Cuando i es igual a\", i,\"la condición es falsa y no se itera más.\")"
   ]
  },
  {
   "cell_type": "markdown",
   "metadata": {
    "slideshow": {
     "slide_type": "slide"
    }
   },
   "source": [
    "## Ciclos anidados"
   ]
  },
  {
   "cell_type": "code",
   "execution_count": 2,
   "metadata": {
    "slideshow": {
     "slide_type": "-"
    }
   },
   "outputs": [
    {
     "name": "stdout",
     "output_type": "stream",
     "text": [
      "1 1\n",
      "1 2\n",
      "1 3\n",
      "1 4\n",
      "2 1\n",
      "2 2\n",
      "2 3\n",
      "2 4\n",
      "3 1\n",
      "3 2\n",
      "3 3\n",
      "3 4\n",
      "4 1\n",
      "4 2\n",
      "4 3\n",
      "4 4\n"
     ]
    }
   ],
   "source": [
    "x = 1\n",
    "while x <= 4:\n",
    "    y = 1\n",
    "    while y <= 4:        \n",
    "        print(x,y)\n",
    "        y += 1\n",
    "    x += 1"
   ]
  },
  {
   "cell_type": "markdown",
   "metadata": {
    "slideshow": {
     "slide_type": "slide"
    }
   },
   "source": [
    "## Condición de término no conocida (uso de \"flag\")\n",
    "\n",
    "Se conoce como \"flag\" a una variable de tipo Booleana que controla el inicio y término de un ciclo. Cuando la condición de término no es conocida, se suelen utilizar este tipo de variables de control."
   ]
  },
  {
   "cell_type": "markdown",
   "metadata": {
    "slideshow": {
     "slide_type": "-"
    }
   },
   "source": [
    "```python\n",
    "flag = True\n",
    "while flag:\n",
    "    if <condición>:\n",
    "        flag = False\n",
    "    else:\n",
    "        sentencias mientras la <condición> sea verdadera\n",
    "```"
   ]
  },
  {
   "cell_type": "markdown",
   "metadata": {
    "slideshow": {
     "slide_type": "slide"
    }
   },
   "source": [
    "## Ejemplo"
   ]
  },
  {
   "cell_type": "code",
   "execution_count": 3,
   "metadata": {
    "slideshow": {
     "slide_type": "-"
    }
   },
   "outputs": [
    {
     "name": "stdout",
     "output_type": "stream",
     "text": [
      "Ingrese un número entero o la palabra SALIR:1\n",
      "Ingrese un número entero o la palabra SALIR:2\n",
      "Ingrese un número entero o la palabra SALIR:SALIR\n",
      "La suma de todos los numeros ingresados es: 3\n"
     ]
    }
   ],
   "source": [
    "suma = 0\n",
    "flag = True\n",
    "while flag:\n",
    "    n = input(\"Ingrese un número entero o la palabra SALIR:\")\n",
    "    if n == \"SALIR\":\n",
    "        flag = False\n",
    "    else:\n",
    "        suma += int(n)\n",
    "print (\"La suma de todos los numeros ingresados es:\", suma)"
   ]
  },
  {
   "cell_type": "markdown",
   "metadata": {
    "slideshow": {
     "slide_type": "slide"
    }
   },
   "source": [
    "## Validar el ingreso de datos\n",
    "\n",
    "Ejemplo: Forzar el ingreso de un número positivo. El programa termina cuando se ingresa un número mayor que cero."
   ]
  },
  {
   "cell_type": "code",
   "execution_count": null,
   "metadata": {
    "scrolled": true,
    "slideshow": {
     "slide_type": "-"
    }
   },
   "outputs": [],
   "source": [
    "# Sin flag\n",
    "n = int(input(\"Ingrese un número positivo:\"))\n",
    "while n <= 0:\n",
    "    print(\"El número no es válido.\")\n",
    "    n = int(input(\"Ingrese un número positivo:\"))"
   ]
  },
  {
   "cell_type": "code",
   "execution_count": null,
   "metadata": {
    "slideshow": {
     "slide_type": "-"
    }
   },
   "outputs": [],
   "source": [
    "# Con flag\n",
    "flag = True\n",
    "while flag:\n",
    "    n = int(input(\"Ingrese un número positivo:\"))\n",
    "    if n > 0:\n",
    "        flag = False\n",
    "    else:\n",
    "        print(\"El número no es válido.\")"
   ]
  },
  {
   "cell_type": "code",
   "execution_count": null,
   "metadata": {
    "slideshow": {
     "slide_type": "skip"
    }
   },
   "outputs": [],
   "source": []
  }
 ],
 "metadata": {
  "celltoolbar": "Slideshow",
  "colab": {
   "collapsed_sections": [],
   "name": "Clase01_Intro_Programación_2019.ipynb",
   "provenance": [],
   "version": "0.3.2"
  },
  "kernelspec": {
   "display_name": "Python 3",
   "language": "python",
   "name": "python3"
  },
  "language_info": {
   "codemirror_mode": {
    "name": "ipython",
    "version": 3
   },
   "file_extension": ".py",
   "mimetype": "text/x-python",
   "name": "python",
   "nbconvert_exporter": "python",
   "pygments_lexer": "ipython3",
   "version": "3.8.5"
  }
 },
 "nbformat": 4,
 "nbformat_minor": 1
}
