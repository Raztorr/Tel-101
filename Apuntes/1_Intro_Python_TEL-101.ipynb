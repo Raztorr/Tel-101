{
 "cells": [
  {
   "cell_type": "markdown",
   "metadata": {
    "colab_type": "text",
    "id": "KnAJIAL4sqXc",
    "slideshow": {
     "slide_type": "slide"
    }
   },
   "source": [
    "<div align=\"center\">\n",
    "<h2>TEL-101 Iniciación a la Programación</h2><br/>\n",
    "<h1>Introducción a Python</h1>\n",
    "<br/><br/>\n",
    "Prof. Nicolás Torres<br/>\n",
    "<a href=\"mailto:nicolas.torresr@usm.cl\">nicolas.torresr@usm.cl</a><br/>\n",
    "Ingeniería Civil Telemática<br/>\n",
    "Departamento de Electrónica<br/>\n",
    "Universidad Técnica Federico Santa María\n",
    "</div>"
   ]
  },
  {
   "cell_type": "markdown",
   "metadata": {
    "slideshow": {
     "slide_type": "slide"
    }
   },
   "source": [
    "# Python\n",
    "\n",
    "<div align=\"center\">\n",
    "<img src=\"images/python-logo.png\" alt=\"\" width=\"40%\" align=\"center\" />\n",
    "</div>\n",
    "\n",
    "* Descargar en https://www.python.org/downloads/\n",
    "* Lenguaje de programación sencillo de entender.\n",
    "* Multiparadigma y multiplataforma."
   ]
  },
  {
   "cell_type": "code",
   "execution_count": 1,
   "metadata": {
    "slideshow": {
     "slide_type": "-"
    }
   },
   "outputs": [
    {
     "name": "stdout",
     "output_type": "stream",
     "text": [
      "Hola Mundo\n"
     ]
    }
   ],
   "source": [
    "print(\"Hola Mundo\")"
   ]
  },
  {
   "cell_type": "markdown",
   "metadata": {
    "slideshow": {
     "slide_type": "slide"
    }
   },
   "source": [
    "## Editor (IDE)\n",
    "Para escribir varias líneas de código, se utiliza generalmente, un editor o *entorno de desarrollo* (IDE).\n",
    "Esta aplicación facilita al programador el desarrollo de software, añandiendo funcionalidades como el autocompletado de código y el coloreado de la sintaxis del lenguaje.\n",
    "\n",
    "Al descargar Python viene incluido por defecto el editor IDLE, pero se recomienda instalar un editor más completo como:\n",
    "* [PyCharm](https://www.jetbrains.com/es-es/pycharm/)\n",
    "* [PyScripter](https://sourceforge.net/projects/pyscripter/)\n",
    "* [Visual Studio](https://visualstudio.microsoft.com/es/)\n",
    "* [SPYDER](https://www.spyder-ide.org/)\n",
    "\n",
    "Otra alternativa es programar de forma online en [repl.it](https://repl.it/languages) o Trinket (trinket.io)"
   ]
  },
  {
   "cell_type": "markdown",
   "metadata": {
    "colab_type": "text",
    "id": "78BJqmRPGTBt",
    "slideshow": {
     "slide_type": "slide"
    }
   },
   "source": [
    "# Tipos de Datos\n",
    "\n",
    "- En cualquier lenguaje de programación se manejan distintos tipos de datos. \n",
    "- Cada tipo de dato permite un conjunto de valores y tiene una serie de propiedades determinadas."
   ]
  },
  {
   "cell_type": "markdown",
   "metadata": {
    "colab_type": "text",
    "id": "HRf_UcYUGTBy",
    "slideshow": {
     "slide_type": "slide"
    }
   },
   "source": [
    "## Números enteros\n",
    "Tipo `int` (integer) que representa un subgrupo finito de numeros enteros matemáticos."
   ]
  },
  {
   "cell_type": "code",
   "execution_count": 2,
   "metadata": {
    "colab": {
     "base_uri": "https://localhost:8080/",
     "height": 34
    },
    "colab_type": "code",
    "executionInfo": {
     "elapsed": 1660,
     "status": "ok",
     "timestamp": 1547045718254,
     "user": {
      "displayName": "Daniel San Martín",
      "photoUrl": "https://lh4.googleusercontent.com/-xj_b6QASR9g/AAAAAAAAAAI/AAAAAAAAABc/MAAqQCVKo5I/s64/photo.jpg",
      "userId": "16014787961842903941"
     },
     "user_tz": 180
    },
    "id": "ed3J_62oGTB2",
    "outputId": "4a335f29-affa-49fb-8fae-04935ab5fc0d",
    "slideshow": {
     "slide_type": "-"
    }
   },
   "outputs": [
    {
     "data": {
      "text/plain": [
       "1"
      ]
     },
     "execution_count": 2,
     "metadata": {},
     "output_type": "execute_result"
    }
   ],
   "source": [
    "1"
   ]
  },
  {
   "cell_type": "code",
   "execution_count": 3,
   "metadata": {
    "colab": {
     "base_uri": "https://localhost:8080/",
     "height": 34
    },
    "colab_type": "code",
    "executionInfo": {
     "elapsed": 2216,
     "status": "ok",
     "timestamp": 1547045718832,
     "user": {
      "displayName": "Daniel San Martín",
      "photoUrl": "https://lh4.googleusercontent.com/-xj_b6QASR9g/AAAAAAAAAAI/AAAAAAAAABc/MAAqQCVKo5I/s64/photo.jpg",
      "userId": "16014787961842903941"
     },
     "user_tz": 180
    },
    "id": "arwvazrmGTCK",
    "outputId": "012c1fb5-404f-4592-f9a8-035eafced9ae",
    "slideshow": {
     "slide_type": "-"
    }
   },
   "outputs": [
    {
     "data": {
      "text/plain": [
       "135"
      ]
     },
     "execution_count": 3,
     "metadata": {},
     "output_type": "execute_result"
    }
   ],
   "source": [
    "+135"
   ]
  },
  {
   "cell_type": "code",
   "execution_count": 4,
   "metadata": {
    "colab": {
     "base_uri": "https://localhost:8080/",
     "height": 34
    },
    "colab_type": "code",
    "executionInfo": {
     "elapsed": 2202,
     "status": "ok",
     "timestamp": 1547045718834,
     "user": {
      "displayName": "Daniel San Martín",
      "photoUrl": "https://lh4.googleusercontent.com/-xj_b6QASR9g/AAAAAAAAAAI/AAAAAAAAABc/MAAqQCVKo5I/s64/photo.jpg",
      "userId": "16014787961842903941"
     },
     "user_tz": 180
    },
    "id": "M8eTRGujGTCW",
    "outputId": "e5deb4b0-f66c-4bd1-e2c2-b96fdd66a2b9",
    "slideshow": {
     "slide_type": "-"
    }
   },
   "outputs": [
    {
     "data": {
      "text/plain": [
       "-124"
      ]
     },
     "execution_count": 4,
     "metadata": {},
     "output_type": "execute_result"
    }
   ],
   "source": [
    "-124"
   ]
  },
  {
   "cell_type": "markdown",
   "metadata": {
    "colab_type": "text",
    "id": "4TO6k9oaGTCi",
    "slideshow": {
     "slide_type": "slide"
    }
   },
   "source": [
    "## Números reales\n",
    "Tipo `float` (punto flotante) que representa números en distintas magnitudes en los reales\n",
    "(incluyendo sus decimales)."
   ]
  },
  {
   "cell_type": "code",
   "execution_count": 5,
   "metadata": {
    "colab": {
     "base_uri": "https://localhost:8080/",
     "height": 34
    },
    "colab_type": "code",
    "executionInfo": {
     "elapsed": 2189,
     "status": "ok",
     "timestamp": 1547045718836,
     "user": {
      "displayName": "Daniel San Martín",
      "photoUrl": "https://lh4.googleusercontent.com/-xj_b6QASR9g/AAAAAAAAAAI/AAAAAAAAABc/MAAqQCVKo5I/s64/photo.jpg",
      "userId": "16014787961842903941"
     },
     "user_tz": 180
    },
    "id": "EzdrIhCqGTCl",
    "outputId": "618b2c1c-f69d-46e2-d95f-88f3377ca545",
    "slideshow": {
     "slide_type": "-"
    }
   },
   "outputs": [
    {
     "data": {
      "text/plain": [
       "-0.36"
      ]
     },
     "execution_count": 5,
     "metadata": {},
     "output_type": "execute_result"
    }
   ],
   "source": [
    "-0.36"
   ]
  },
  {
   "cell_type": "code",
   "execution_count": 6,
   "metadata": {
    "colab": {
     "base_uri": "https://localhost:8080/",
     "height": 34
    },
    "colab_type": "code",
    "executionInfo": {
     "elapsed": 2175,
     "status": "ok",
     "timestamp": 1547045718837,
     "user": {
      "displayName": "Daniel San Martín",
      "photoUrl": "https://lh4.googleusercontent.com/-xj_b6QASR9g/AAAAAAAAAAI/AAAAAAAAABc/MAAqQCVKo5I/s64/photo.jpg",
      "userId": "16014787961842903941"
     },
     "user_tz": 180
    },
    "id": "QIkDmKmTGTCt",
    "outputId": "7862cc0e-7c62-4843-f86f-d933f8c717e6",
    "slideshow": {
     "slide_type": "-"
    }
   },
   "outputs": [
    {
     "data": {
      "text/plain": [
       "0.25"
      ]
     },
     "execution_count": 6,
     "metadata": {},
     "output_type": "execute_result"
    }
   ],
   "source": [
    ".25"
   ]
  },
  {
   "cell_type": "markdown",
   "metadata": {
    "colab_type": "text",
    "id": "_9C9wpsxGTC9",
    "slideshow": {
     "slide_type": "slide"
    }
   },
   "source": [
    "## Valores Lógicos\n",
    "Tipo `bool` que representa el conjunto de valores de verdad (verdadero o falso)."
   ]
  },
  {
   "cell_type": "code",
   "execution_count": 7,
   "metadata": {
    "colab": {
     "base_uri": "https://localhost:8080/",
     "height": 34
    },
    "colab_type": "code",
    "executionInfo": {
     "elapsed": 2149,
     "status": "ok",
     "timestamp": 1547045718840,
     "user": {
      "displayName": "Daniel San Martín",
      "photoUrl": "https://lh4.googleusercontent.com/-xj_b6QASR9g/AAAAAAAAAAI/AAAAAAAAABc/MAAqQCVKo5I/s64/photo.jpg",
      "userId": "16014787961842903941"
     },
     "user_tz": 180
    },
    "id": "APAdEHTBGTC_",
    "outputId": "d865a847-12e0-4cf3-ffda-ede087b19e9c",
    "slideshow": {
     "slide_type": "-"
    }
   },
   "outputs": [
    {
     "data": {
      "text/plain": [
       "True"
      ]
     },
     "execution_count": 7,
     "metadata": {},
     "output_type": "execute_result"
    }
   ],
   "source": [
    "True"
   ]
  },
  {
   "cell_type": "code",
   "execution_count": 8,
   "metadata": {
    "colab": {
     "base_uri": "https://localhost:8080/",
     "height": 34
    },
    "colab_type": "code",
    "executionInfo": {
     "elapsed": 2134,
     "status": "ok",
     "timestamp": 1547045718841,
     "user": {
      "displayName": "Daniel San Martín",
      "photoUrl": "https://lh4.googleusercontent.com/-xj_b6QASR9g/AAAAAAAAAAI/AAAAAAAAABc/MAAqQCVKo5I/s64/photo.jpg",
      "userId": "16014787961842903941"
     },
     "user_tz": 180
    },
    "id": "GO_XWWgLGTDH",
    "outputId": "0b6593e6-dd75-4199-f38a-b9024cf1edd6",
    "slideshow": {
     "slide_type": "-"
    }
   },
   "outputs": [
    {
     "data": {
      "text/plain": [
       "False"
      ]
     },
     "execution_count": 8,
     "metadata": {},
     "output_type": "execute_result"
    }
   ],
   "source": [
    "False"
   ]
  },
  {
   "cell_type": "markdown",
   "metadata": {
    "colab_type": "text",
    "id": "BVwO3sH9GTFl",
    "slideshow": {
     "slide_type": "slide"
    }
   },
   "source": [
    "# Cadenas de texto\n",
    "\n",
    "Tipo `str` (strings) que representa cadenas de caracteres. Se definen entre comillas simples o dobles."
   ]
  },
  {
   "cell_type": "code",
   "execution_count": 9,
   "metadata": {
    "colab": {
     "base_uri": "https://localhost:8080/",
     "height": 34
    },
    "colab_type": "code",
    "executionInfo": {
     "elapsed": 2115,
     "status": "ok",
     "timestamp": 1547045718842,
     "user": {
      "displayName": "Daniel San Martín",
      "photoUrl": "https://lh4.googleusercontent.com/-xj_b6QASR9g/AAAAAAAAAAI/AAAAAAAAABc/MAAqQCVKo5I/s64/photo.jpg",
      "userId": "16014787961842903941"
     },
     "user_tz": 180
    },
    "id": "Y9IW1TujGTDM",
    "outputId": "e0360fc2-9001-463e-e47b-f69a93931a36",
    "slideshow": {
     "slide_type": "-"
    }
   },
   "outputs": [
    {
     "data": {
      "text/plain": [
       "'hola'"
      ]
     },
     "execution_count": 9,
     "metadata": {},
     "output_type": "execute_result"
    }
   ],
   "source": [
    "\"hola\""
   ]
  },
  {
   "cell_type": "code",
   "execution_count": 10,
   "metadata": {
    "colab": {
     "base_uri": "https://localhost:8080/",
     "height": 34
    },
    "colab_type": "code",
    "executionInfo": {
     "elapsed": 2102,
     "status": "ok",
     "timestamp": 1547045718843,
     "user": {
      "displayName": "Daniel San Martín",
      "photoUrl": "https://lh4.googleusercontent.com/-xj_b6QASR9g/AAAAAAAAAAI/AAAAAAAAABc/MAAqQCVKo5I/s64/photo.jpg",
      "userId": "16014787961842903941"
     },
     "user_tz": 180
    },
    "id": "1CDuqF6fGTDR",
    "outputId": "26e54053-1625-4205-c569-c690fe77c8b4",
    "scrolled": true,
    "slideshow": {
     "slide_type": "-"
    }
   },
   "outputs": [
    {
     "data": {
      "text/plain": [
       "'hola'"
      ]
     },
     "execution_count": 10,
     "metadata": {},
     "output_type": "execute_result"
    }
   ],
   "source": [
    "'hola'"
   ]
  },
  {
   "cell_type": "code",
   "execution_count": 11,
   "metadata": {
    "colab": {
     "base_uri": "https://localhost:8080/",
     "height": 34
    },
    "colab_type": "code",
    "executionInfo": {
     "elapsed": 2089,
     "status": "ok",
     "timestamp": 1547045718844,
     "user": {
      "displayName": "Daniel San Martín",
      "photoUrl": "https://lh4.googleusercontent.com/-xj_b6QASR9g/AAAAAAAAAAI/AAAAAAAAABc/MAAqQCVKo5I/s64/photo.jpg",
      "userId": "16014787961842903941"
     },
     "user_tz": 180
    },
    "id": "S35o67T9GTDX",
    "outputId": "cd7da349-b28f-4800-a901-1ac5cc2136ae",
    "slideshow": {
     "slide_type": "-"
    }
   },
   "outputs": [
    {
     "data": {
      "text/plain": [
       "\"Let's Go!\""
      ]
     },
     "execution_count": 11,
     "metadata": {},
     "output_type": "execute_result"
    }
   ],
   "source": [
    "\"Let's Go!\""
   ]
  },
  {
   "cell_type": "code",
   "execution_count": 12,
   "metadata": {
    "colab": {
     "base_uri": "https://localhost:8080/",
     "height": 34
    },
    "colab_type": "code",
    "executionInfo": {
     "elapsed": 2074,
     "status": "ok",
     "timestamp": 1547045718845,
     "user": {
      "displayName": "Daniel San Martín",
      "photoUrl": "https://lh4.googleusercontent.com/-xj_b6QASR9g/AAAAAAAAAAI/AAAAAAAAABc/MAAqQCVKo5I/s64/photo.jpg",
      "userId": "16014787961842903941"
     },
     "user_tz": 180
    },
    "id": "_-uGmmjoGTDd",
    "outputId": "e5debfd4-5f91-4dc4-de3b-e466359e9bfe",
    "slideshow": {
     "slide_type": "-"
    }
   },
   "outputs": [
    {
     "data": {
      "text/plain": [
       "'3.141516'"
      ]
     },
     "execution_count": 12,
     "metadata": {},
     "output_type": "execute_result"
    }
   ],
   "source": [
    "'3.141516'"
   ]
  },
  {
   "cell_type": "markdown",
   "metadata": {
    "colab_type": "text",
    "id": "AuVwdUeYGTDn",
    "slideshow": {
     "slide_type": "slide"
    }
   },
   "source": [
    "## Operadores Aritméticos\n",
    "Operan sobre valores numéricos y entregan un valor numérico como resultado."
   ]
  },
  {
   "cell_type": "markdown",
   "metadata": {
    "colab_type": "text",
    "id": "_Pz4wQz8GTDo",
    "slideshow": {
     "slide_type": "slide"
    }
   },
   "source": [
    "- Suma (`+`).\n",
    "- Resta (`-`).\n",
    "- Multiplicación (`*`).\n",
    "- División (`/`).\n",
    "- División Parte Entera (`//`).\n",
    "- Módulo o Resto Aritmético (`%`).\n",
    "- Potencia (`**`)."
   ]
  },
  {
   "cell_type": "code",
   "execution_count": 13,
   "metadata": {
    "colab": {
     "base_uri": "https://localhost:8080/",
     "height": 54
    },
    "colab_type": "code",
    "executionInfo": {
     "elapsed": 2058,
     "status": "ok",
     "timestamp": 1547045718846,
     "user": {
      "displayName": "Daniel San Martín",
      "photoUrl": "https://lh4.googleusercontent.com/-xj_b6QASR9g/AAAAAAAAAAI/AAAAAAAAABc/MAAqQCVKo5I/s64/photo.jpg",
      "userId": "16014787961842903941"
     },
     "user_tz": 180
    },
    "id": "cS1Z2brmGTDo",
    "outputId": "dd074aaf-6a32-4df5-cfe0-ee5f03c739a8",
    "slideshow": {
     "slide_type": "slide"
    }
   },
   "outputs": [
    {
     "data": {
      "text/plain": [
       "5"
      ]
     },
     "execution_count": 13,
     "metadata": {},
     "output_type": "execute_result"
    }
   ],
   "source": [
    "3+2"
   ]
  },
  {
   "cell_type": "code",
   "execution_count": 14,
   "metadata": {
    "colab": {
     "base_uri": "https://localhost:8080/",
     "height": 54
    },
    "colab_type": "code",
    "executionInfo": {
     "elapsed": 2050,
     "status": "ok",
     "timestamp": 1547045718847,
     "user": {
      "displayName": "Daniel San Martín",
      "photoUrl": "https://lh4.googleusercontent.com/-xj_b6QASR9g/AAAAAAAAAAI/AAAAAAAAABc/MAAqQCVKo5I/s64/photo.jpg",
      "userId": "16014787961842903941"
     },
     "user_tz": 180
    },
    "id": "upKGnVLyGTDr",
    "outputId": "4919df78-6749-4a93-fca2-f1c9f8d86df1",
    "slideshow": {
     "slide_type": "-"
    }
   },
   "outputs": [
    {
     "data": {
      "text/plain": [
       "3"
      ]
     },
     "execution_count": 14,
     "metadata": {},
     "output_type": "execute_result"
    }
   ],
   "source": [
    "8-5"
   ]
  },
  {
   "cell_type": "code",
   "execution_count": 15,
   "metadata": {
    "colab": {
     "base_uri": "https://localhost:8080/",
     "height": 54
    },
    "colab_type": "code",
    "executionInfo": {
     "elapsed": 2043,
     "status": "ok",
     "timestamp": 1547045718848,
     "user": {
      "displayName": "Daniel San Martín",
      "photoUrl": "https://lh4.googleusercontent.com/-xj_b6QASR9g/AAAAAAAAAAI/AAAAAAAAABc/MAAqQCVKo5I/s64/photo.jpg",
      "userId": "16014787961842903941"
     },
     "user_tz": 180
    },
    "id": "fVLT3wtSGTDw",
    "outputId": "14c2e684-7844-4766-8b48-118101be2576",
    "slideshow": {
     "slide_type": "-"
    }
   },
   "outputs": [
    {
     "data": {
      "text/plain": [
       "3.0"
      ]
     },
     "execution_count": 15,
     "metadata": {},
     "output_type": "execute_result"
    }
   ],
   "source": [
    "8-5.0"
   ]
  },
  {
   "cell_type": "code",
   "execution_count": 16,
   "metadata": {
    "colab": {
     "base_uri": "https://localhost:8080/",
     "height": 54
    },
    "colab_type": "code",
    "executionInfo": {
     "elapsed": 2687,
     "status": "ok",
     "timestamp": 1547045719500,
     "user": {
      "displayName": "Daniel San Martín",
      "photoUrl": "https://lh4.googleusercontent.com/-xj_b6QASR9g/AAAAAAAAAAI/AAAAAAAAABc/MAAqQCVKo5I/s64/photo.jpg",
      "userId": "16014787961842903941"
     },
     "user_tz": 180
    },
    "id": "yx4EDuT4GTD1",
    "outputId": "743a80a4-dccd-49fa-bdd0-42b186fd5eeb",
    "slideshow": {
     "slide_type": "slide"
    }
   },
   "outputs": [
    {
     "data": {
      "text/plain": [
       "2.5"
      ]
     },
     "execution_count": 16,
     "metadata": {},
     "output_type": "execute_result"
    }
   ],
   "source": [
    "5/2"
   ]
  },
  {
   "cell_type": "code",
   "execution_count": 17,
   "metadata": {
    "colab": {
     "base_uri": "https://localhost:8080/",
     "height": 54
    },
    "colab_type": "code",
    "executionInfo": {
     "elapsed": 2681,
     "status": "ok",
     "timestamp": 1547045719501,
     "user": {
      "displayName": "Daniel San Martín",
      "photoUrl": "https://lh4.googleusercontent.com/-xj_b6QASR9g/AAAAAAAAAAI/AAAAAAAAABc/MAAqQCVKo5I/s64/photo.jpg",
      "userId": "16014787961842903941"
     },
     "user_tz": 180
    },
    "id": "lMqXkMrvGTD4",
    "outputId": "61ddf880-b6e9-4481-ee03-0edc467a8448",
    "slideshow": {
     "slide_type": "-"
    }
   },
   "outputs": [
    {
     "data": {
      "text/plain": [
       "2"
      ]
     },
     "execution_count": 17,
     "metadata": {},
     "output_type": "execute_result"
    }
   ],
   "source": [
    "5//2"
   ]
  },
  {
   "cell_type": "code",
   "execution_count": 18,
   "metadata": {
    "colab": {
     "base_uri": "https://localhost:8080/",
     "height": 54
    },
    "colab_type": "code",
    "executionInfo": {
     "elapsed": 2681,
     "status": "ok",
     "timestamp": 1547045719501,
     "user": {
      "displayName": "Daniel San Martín",
      "photoUrl": "https://lh4.googleusercontent.com/-xj_b6QASR9g/AAAAAAAAAAI/AAAAAAAAABc/MAAqQCVKo5I/s64/photo.jpg",
      "userId": "16014787961842903941"
     },
     "user_tz": 180
    },
    "id": "lMqXkMrvGTD4",
    "outputId": "61ddf880-b6e9-4481-ee03-0edc467a8448",
    "slideshow": {
     "slide_type": "-"
    }
   },
   "outputs": [
    {
     "data": {
      "text/plain": [
       "32"
      ]
     },
     "execution_count": 18,
     "metadata": {},
     "output_type": "execute_result"
    }
   ],
   "source": [
    "329//10"
   ]
  },
  {
   "cell_type": "code",
   "execution_count": 19,
   "metadata": {
    "colab": {
     "base_uri": "https://localhost:8080/",
     "height": 54
    },
    "colab_type": "code",
    "executionInfo": {
     "elapsed": 2681,
     "status": "ok",
     "timestamp": 1547045719501,
     "user": {
      "displayName": "Daniel San Martín",
      "photoUrl": "https://lh4.googleusercontent.com/-xj_b6QASR9g/AAAAAAAAAAI/AAAAAAAAABc/MAAqQCVKo5I/s64/photo.jpg",
      "userId": "16014787961842903941"
     },
     "user_tz": 180
    },
    "id": "lMqXkMrvGTD4",
    "outputId": "61ddf880-b6e9-4481-ee03-0edc467a8448",
    "slideshow": {
     "slide_type": "-"
    }
   },
   "outputs": [
    {
     "ename": "ZeroDivisionError",
     "evalue": "division by zero",
     "output_type": "error",
     "traceback": [
      "\u001b[1;31m---------------------------------------------------------------------------\u001b[0m",
      "\u001b[1;31mZeroDivisionError\u001b[0m                         Traceback (most recent call last)",
      "\u001b[1;32m<ipython-input-19-e574edb36883>\u001b[0m in \u001b[0;36m<module>\u001b[1;34m\u001b[0m\n\u001b[1;32m----> 1\u001b[1;33m \u001b[1;36m10\u001b[0m\u001b[1;33m/\u001b[0m\u001b[1;36m0\u001b[0m\u001b[1;33m\u001b[0m\u001b[1;33m\u001b[0m\u001b[0m\n\u001b[0m",
      "\u001b[1;31mZeroDivisionError\u001b[0m: division by zero"
     ]
    }
   ],
   "source": [
    "10/0"
   ]
  },
  {
   "cell_type": "code",
   "execution_count": 20,
   "metadata": {
    "slideshow": {
     "slide_type": "slide"
    }
   },
   "outputs": [
    {
     "data": {
      "text/plain": [
       "0"
      ]
     },
     "execution_count": 20,
     "metadata": {},
     "output_type": "execute_result"
    }
   ],
   "source": [
    "4%2"
   ]
  },
  {
   "cell_type": "code",
   "execution_count": 21,
   "metadata": {
    "colab": {
     "base_uri": "https://localhost:8080/",
     "height": 54
    },
    "colab_type": "code",
    "executionInfo": {
     "elapsed": 2681,
     "status": "ok",
     "timestamp": 1547045719501,
     "user": {
      "displayName": "Daniel San Martín",
      "photoUrl": "https://lh4.googleusercontent.com/-xj_b6QASR9g/AAAAAAAAAAI/AAAAAAAAABc/MAAqQCVKo5I/s64/photo.jpg",
      "userId": "16014787961842903941"
     },
     "user_tz": 180
    },
    "id": "lMqXkMrvGTD4",
    "outputId": "61ddf880-b6e9-4481-ee03-0edc467a8448",
    "slideshow": {
     "slide_type": "-"
    }
   },
   "outputs": [
    {
     "data": {
      "text/plain": [
       "1"
      ]
     },
     "execution_count": 21,
     "metadata": {},
     "output_type": "execute_result"
    }
   ],
   "source": [
    "5%2"
   ]
  },
  {
   "cell_type": "code",
   "execution_count": 22,
   "metadata": {
    "slideshow": {
     "slide_type": "slide"
    }
   },
   "outputs": [
    {
     "data": {
      "text/plain": [
       "8"
      ]
     },
     "execution_count": 22,
     "metadata": {},
     "output_type": "execute_result"
    }
   ],
   "source": [
    "2 ** 3"
   ]
  },
  {
   "cell_type": "code",
   "execution_count": 23,
   "metadata": {
    "slideshow": {
     "slide_type": "-"
    }
   },
   "outputs": [
    {
     "data": {
      "text/plain": [
       "8.0"
      ]
     },
     "execution_count": 23,
     "metadata": {},
     "output_type": "execute_result"
    }
   ],
   "source": [
    "16 ** 1/2"
   ]
  },
  {
   "cell_type": "code",
   "execution_count": 24,
   "metadata": {
    "slideshow": {
     "slide_type": "-"
    }
   },
   "outputs": [
    {
     "data": {
      "text/plain": [
       "4.0"
      ]
     },
     "execution_count": 24,
     "metadata": {},
     "output_type": "execute_result"
    }
   ],
   "source": [
    "16 ** (1/2)"
   ]
  },
  {
   "cell_type": "markdown",
   "metadata": {
    "slideshow": {
     "slide_type": "slide"
    }
   },
   "source": [
    "## Operaciones elementales sobre Strings"
   ]
  },
  {
   "cell_type": "markdown",
   "metadata": {
    "slideshow": {
     "slide_type": "-"
    }
   },
   "source": [
    "Algunos operadores definidos anteriormente para números, pueden utilizarse sobre strings."
   ]
  },
  {
   "cell_type": "markdown",
   "metadata": {
    "slideshow": {
     "slide_type": "-"
    }
   },
   "source": [
    "- Concatenación de strings (`+`)\n",
    "- Repetición de strings (`*`)"
   ]
  },
  {
   "cell_type": "code",
   "execution_count": 25,
   "metadata": {
    "slideshow": {
     "slide_type": "slide"
    }
   },
   "outputs": [
    {
     "data": {
      "text/plain": [
       "'abc'"
      ]
     },
     "execution_count": 25,
     "metadata": {},
     "output_type": "execute_result"
    }
   ],
   "source": [
    "'a' + 'b' + 'c'"
   ]
  },
  {
   "cell_type": "code",
   "execution_count": 26,
   "metadata": {
    "slideshow": {
     "slide_type": "-"
    }
   },
   "outputs": [
    {
     "data": {
      "text/plain": [
       "'12'"
      ]
     },
     "execution_count": 26,
     "metadata": {},
     "output_type": "execute_result"
    }
   ],
   "source": [
    "'1' + '2'"
   ]
  },
  {
   "cell_type": "code",
   "execution_count": 27,
   "metadata": {
    "slideshow": {
     "slide_type": "-"
    }
   },
   "outputs": [
    {
     "data": {
      "text/plain": [
       "'222'"
      ]
     },
     "execution_count": 27,
     "metadata": {},
     "output_type": "execute_result"
    }
   ],
   "source": [
    "'2' * 3"
   ]
  },
  {
   "cell_type": "code",
   "execution_count": 28,
   "metadata": {
    "slideshow": {
     "slide_type": "-"
    }
   },
   "outputs": [
    {
     "data": {
      "text/plain": [
       "'nanananana'"
      ]
     },
     "execution_count": 28,
     "metadata": {},
     "output_type": "execute_result"
    }
   ],
   "source": [
    "'na' * 5"
   ]
  },
  {
   "cell_type": "markdown",
   "metadata": {
    "slideshow": {
     "slide_type": "slide"
    }
   },
   "source": [
    "# Precedencia de Operadores"
   ]
  },
  {
   "cell_type": "markdown",
   "metadata": {
    "slideshow": {
     "slide_type": "-"
    }
   },
   "source": [
    "Las expresiones se evalúan siguiendo reglas de precedencia para evitar ambigüedades. La precedencia de operadores, de mayor a menor, es la siguiente:\n",
    "\n",
    "* Los paréntesis\n",
    "* `**` \n",
    "* `*`, `/`, `//`, `%`\n",
    "* `+`, `-`"
   ]
  },
  {
   "cell_type": "markdown",
   "metadata": {
    "slideshow": {
     "slide_type": "slide"
    }
   },
   "source": [
    "# Variables\n",
    "\n",
    "Una variable es un espacio de la memoria con un nombre que permite **almacenar** un valor que podrá ser utilizado posteriormente.\n",
    "\n",
    "<div align=\"center\">\n",
    "<img src=\"images/variables.png\" width=\"30%\"/>\n",
    "</div>"
   ]
  },
  {
   "cell_type": "markdown",
   "metadata": {
    "colab_type": "text",
    "id": "TsLuZxnGGTFN",
    "slideshow": {
     "slide_type": "slide"
    }
   },
   "source": [
    "## Asignación a Variables\n",
    "\n",
    "<div align=\"center\">\n",
    "<br>\n",
    "<div style=\"font-size:2em\"> variable = expresión</div>\n",
    "<br>\n",
    "</div>\n",
    "\n",
    "El **operador de asignación**, el signo **`=`**, enlaza un nombre, en el lado izquierdo del operador, con un valor en el lado derecho."
   ]
  },
  {
   "cell_type": "markdown",
   "metadata": {
    "slideshow": {
     "slide_type": "slide"
    }
   },
   "source": [
    "Por ejemplo, asignarle a la variable `a` el valor `5`.\n",
    "\n",
    "<div align=\"center\">\n",
    "<img src=\"images/asignacion.png\" width=\"15%\"/>\n",
    "</div>\n"
   ]
  },
  {
   "cell_type": "markdown",
   "metadata": {
    "colab_type": "text",
    "id": "RFTOJY5UGTFO",
    "slideshow": {
     "slide_type": "slide"
    }
   },
   "source": [
    "Los nombres de variables válidos en Python deben ajustarse a las siguientes tres reglas:\n",
    "\n",
    "1. Son secuencias arbitrariamente largas de letras y dígitos.\n",
    "2. La secuencia debe empezar con una letra.\n",
    "3. Además de `a...z`, y `A...Z`, se acepta el guión bajo (`_`)."
   ]
  },
  {
   "cell_type": "code",
   "execution_count": 29,
   "metadata": {
    "colab": {
     "base_uri": "https://localhost:8080/",
     "height": 198
    },
    "colab_type": "code",
    "executionInfo": {
     "elapsed": 2868,
     "status": "error",
     "timestamp": 1547045719925,
     "user": {
      "displayName": "Daniel San Martín",
      "photoUrl": "https://lh4.googleusercontent.com/-xj_b6QASR9g/AAAAAAAAAAI/AAAAAAAAABc/MAAqQCVKo5I/s64/photo.jpg",
      "userId": "16014787961842903941"
     },
     "user_tz": 180
    },
    "id": "R4v14uNPGTFP",
    "outputId": "c1432948-188f-4a0e-9659-79d886b3bd16",
    "slideshow": {
     "slide_type": "slide"
    }
   },
   "outputs": [],
   "source": [
    "X_X = \"Santiago\"\n",
    "xD = 20\n",
    "uwu = 3.14159"
   ]
  },
  {
   "cell_type": "markdown",
   "metadata": {
    "slideshow": {
     "slide_type": "fragment"
    }
   },
   "source": [
    "Un buen hábito de la programación es escoger nombres significativos para las variables. Nombres que especifiquen para qué se usa la variable o que valor almacena."
   ]
  },
  {
   "cell_type": "code",
   "execution_count": 30,
   "metadata": {
    "slideshow": {
     "slide_type": "-"
    }
   },
   "outputs": [],
   "source": [
    "ciudad = \"Santiago\"\n",
    "edad = 20\n",
    "pi = 3.14159"
   ]
  },
  {
   "cell_type": "markdown",
   "metadata": {
    "slideshow": {
     "slide_type": "slide"
    }
   },
   "source": [
    "## Operadores de Asignación\n",
    "\n",
    "* Existen varios operadores que pueden ser mezclados con la asignación de variables. \n",
    "* Permiten escribir operaciones de forma más compacta.\n",
    "\n",
    "<table style=\"font-size: 80%; float: center;\">\n",
    "    <thead>\n",
    "        <th style=\"text-align: center;\">Operador</th>\n",
    "        <th style=\"text-align: center;\">Símbolo</th>\n",
    "    </thead>\n",
    "    <tr>\n",
    "        <td style=\"text-align: center;\">Asignación</td>\n",
    "        <td style=\"text-align: center;\"><code>=</code></td>\n",
    "    </tr>\n",
    "    <tr>\n",
    "        <td style=\"text-align: center;\">Suma y Asignación</td>\n",
    "        <td style=\"text-align: center;\"><code>+=</code></td>\n",
    "    </tr>\n",
    "    <tr>\n",
    "        <td style=\"text-align: center;\">Resta y Asignación</td>\n",
    "        <td style=\"text-align: center;\"><code>-=</code></td>\n",
    "    </tr>\n",
    "    <tr>\n",
    "        <td style=\"text-align: center;\">Multiplicación y Asignación</td>\n",
    "        <td style=\"text-align: center;\"><code>*=</code></td>\n",
    "    </tr>\n",
    "    <tr>\n",
    "        <td style=\"text-align: center;\">División y Asignación</td>\n",
    "        <td style=\"text-align: center;\"><code>/=</code></td>\n",
    "    </tr>\n",
    "    <tr>\n",
    "        <td style=\"text-align: center;\">Módulo y Asignación</td>\n",
    "        <td style=\"text-align: center;\"><code>%=</code></td>\n",
    "    </tr>\n",
    "    <tr>\n",
    "        <td style=\"text-align: center;\">División Entera y Asignación</td>\n",
    "        <td style=\"text-align: center;\"><code>//=</code></td>\n",
    "    </tr>\n",
    "    <tr>\n",
    "        <td style=\"text-align: center;\">Potencia y Asignación</td>\n",
    "        <td style=\"text-align: center;\"><code>**=</code></td>\n",
    "    </tr>\n",
    "</table>"
   ]
  },
  {
   "cell_type": "markdown",
   "metadata": {
    "slideshow": {
     "slide_type": "slide"
    }
   },
   "source": [
    "Por ejemplo:\n",
    "\n",
    "- `x += 1` es equivalente a `x = x + 1`\n",
    "- `x *= 2` es equivalente a `x = x * 2`\n",
    "- Etc."
   ]
  },
  {
   "cell_type": "markdown",
   "metadata": {
    "colab_type": "text",
    "id": "BVwO3sH9GTFl",
    "slideshow": {
     "slide_type": "slide"
    }
   },
   "source": [
    "# Conversión (*Casting*) entre tipos de datos"
   ]
  },
  {
   "cell_type": "code",
   "execution_count": 31,
   "metadata": {
    "colab": {
     "base_uri": "https://localhost:8080/",
     "height": 34
    },
    "colab_type": "code",
    "executionInfo": {
     "elapsed": 1526,
     "status": "ok",
     "timestamp": 1547045806572,
     "user": {
      "displayName": "Daniel San Martín",
      "photoUrl": "https://lh4.googleusercontent.com/-xj_b6QASR9g/AAAAAAAAAAI/AAAAAAAAABc/MAAqQCVKo5I/s64/photo.jpg",
      "userId": "16014787961842903941"
     },
     "user_tz": 180
    },
    "id": "Q4vAdiocGTFm",
    "outputId": "f1a1413a-4e14-4ef6-d443-9faf0fdc7b6b",
    "slideshow": {
     "slide_type": "-"
    }
   },
   "outputs": [
    {
     "data": {
      "text/plain": [
       "2"
      ]
     },
     "execution_count": 31,
     "metadata": {},
     "output_type": "execute_result"
    }
   ],
   "source": [
    "int(2.955616516516516516) #de float a int"
   ]
  },
  {
   "cell_type": "code",
   "execution_count": 32,
   "metadata": {
    "colab": {
     "base_uri": "https://localhost:8080/",
     "height": 34
    },
    "colab_type": "code",
    "executionInfo": {
     "elapsed": 1519,
     "status": "ok",
     "timestamp": 1547045806573,
     "user": {
      "displayName": "Daniel San Martín",
      "photoUrl": "https://lh4.googleusercontent.com/-xj_b6QASR9g/AAAAAAAAAAI/AAAAAAAAABc/MAAqQCVKo5I/s64/photo.jpg",
      "userId": "16014787961842903941"
     },
     "user_tz": 180
    },
    "id": "ySXS_5cYGTFp",
    "outputId": "58e42633-dc0f-438c-862b-ad8e40367c53",
    "slideshow": {
     "slide_type": "-"
    }
   },
   "outputs": [
    {
     "data": {
      "text/plain": [
       "1.225"
      ]
     },
     "execution_count": 32,
     "metadata": {},
     "output_type": "execute_result"
    }
   ],
   "source": [
    "float(\"1.225\") #de string a float"
   ]
  },
  {
   "cell_type": "code",
   "execution_count": 33,
   "metadata": {
    "colab": {
     "base_uri": "https://localhost:8080/",
     "height": 34
    },
    "colab_type": "code",
    "executionInfo": {
     "elapsed": 1513,
     "status": "ok",
     "timestamp": 1547045806574,
     "user": {
      "displayName": "Daniel San Martín",
      "photoUrl": "https://lh4.googleusercontent.com/-xj_b6QASR9g/AAAAAAAAAAI/AAAAAAAAABc/MAAqQCVKo5I/s64/photo.jpg",
      "userId": "16014787961842903941"
     },
     "user_tz": 180
    },
    "id": "wb_92j36GTFs",
    "outputId": "ddb152b0-5fb8-4462-c977-55a53f140c9f",
    "slideshow": {
     "slide_type": "-"
    }
   },
   "outputs": [
    {
     "data": {
      "text/plain": [
       "'2.5'"
      ]
     },
     "execution_count": 33,
     "metadata": {},
     "output_type": "execute_result"
    }
   ],
   "source": [
    "str(2.5) #de float a str"
   ]
  },
  {
   "cell_type": "code",
   "execution_count": 34,
   "metadata": {
    "colab": {
     "base_uri": "https://localhost:8080/",
     "height": 34
    },
    "colab_type": "code",
    "executionInfo": {
     "elapsed": 1506,
     "status": "ok",
     "timestamp": 1547045806575,
     "user": {
      "displayName": "Daniel San Martín",
      "photoUrl": "https://lh4.googleusercontent.com/-xj_b6QASR9g/AAAAAAAAAAI/AAAAAAAAABc/MAAqQCVKo5I/s64/photo.jpg",
      "userId": "16014787961842903941"
     },
     "user_tz": 180
    },
    "id": "A9I1BANfGTFv",
    "outputId": "14352491-3189-4da4-caf7-4117df3198fa",
    "slideshow": {
     "slide_type": "-"
    }
   },
   "outputs": [
    {
     "data": {
      "text/plain": [
       "False"
      ]
     },
     "execution_count": 34,
     "metadata": {},
     "output_type": "execute_result"
    }
   ],
   "source": [
    "bool(\"\") #de string a bool"
   ]
  },
  {
   "cell_type": "markdown",
   "metadata": {
    "colab_type": "text",
    "id": "56yt8qibGTFQ",
    "slideshow": {
     "slide_type": "slide"
    }
   },
   "source": [
    "# Entrada de datos"
   ]
  },
  {
   "cell_type": "code",
   "execution_count": 35,
   "metadata": {
    "colab": {
     "base_uri": "https://localhost:8080/",
     "height": 35
    },
    "colab_type": "code",
    "executionInfo": {
     "elapsed": 4864,
     "status": "ok",
     "timestamp": 1547745480028,
     "user": {
      "displayName": "Cristopher Arenas",
      "photoUrl": "https://lh6.googleusercontent.com/-XmDQBU2Mkm8/AAAAAAAAAAI/AAAAAAAAAIY/xrQ0YxqoyWs/s64/photo.jpg",
      "userId": "00308369002284592615"
     },
     "user_tz": 180
    },
    "id": "xOB5ne6pGTFR",
    "outputId": "3f8859b3-ec39-43bc-e732-81b5ec91d65b",
    "slideshow": {
     "slide_type": "-"
    }
   },
   "outputs": [
    {
     "name": "stdout",
     "output_type": "stream",
     "text": [
      "Ingrese un numero: 7\n"
     ]
    }
   ],
   "source": [
    "numero = input(\"Ingrese un numero: \")"
   ]
  },
  {
   "cell_type": "markdown",
   "metadata": {
    "colab_type": "text",
    "id": "29Jqesn3GTFU",
    "slideshow": {
     "slide_type": "-"
    }
   },
   "source": [
    "¿Qué tipo de dato es la variable `numero`?"
   ]
  },
  {
   "cell_type": "markdown",
   "metadata": {
    "slideshow": {
     "slide_type": "slide"
    }
   },
   "source": [
    "Por defecto, todos los valores se guardan en formato string."
   ]
  },
  {
   "cell_type": "code",
   "execution_count": 36,
   "metadata": {
    "colab": {
     "base_uri": "https://localhost:8080/",
     "height": 35
    },
    "colab_type": "code",
    "executionInfo": {
     "elapsed": 768,
     "status": "ok",
     "timestamp": 1547745487261,
     "user": {
      "displayName": "Cristopher Arenas",
      "photoUrl": "https://lh6.googleusercontent.com/-XmDQBU2Mkm8/AAAAAAAAAAI/AAAAAAAAAIY/xrQ0YxqoyWs/s64/photo.jpg",
      "userId": "00308369002284592615"
     },
     "user_tz": 180
    },
    "id": "BSL-_23RGTFV",
    "outputId": "3f3cb21f-f442-43ec-be7e-75032468fbfd",
    "slideshow": {
     "slide_type": "-"
    }
   },
   "outputs": [
    {
     "data": {
      "text/plain": [
       "'7'"
      ]
     },
     "execution_count": 36,
     "metadata": {},
     "output_type": "execute_result"
    }
   ],
   "source": [
    "numero"
   ]
  },
  {
   "cell_type": "markdown",
   "metadata": {
    "slideshow": {
     "slide_type": "slide"
    }
   },
   "source": [
    "Guardar siempre los datos de entrada de acuerdo a su tipo más adecuado. Por ejemplo:\n",
    "\n",
    "```python\n",
    "nombre = input('Ingrese su nombre:')\n",
    "edad = int(input('Ingrese su edad:'))\n",
    "numero = float(input('Ingrese un numero real:'))\n",
    "```"
   ]
  },
  {
   "cell_type": "markdown",
   "metadata": {
    "colab_type": "text",
    "id": "NZuaGPTMGTFY",
    "slideshow": {
     "slide_type": "slide"
    }
   },
   "source": [
    "# Salida de datos"
   ]
  },
  {
   "cell_type": "code",
   "execution_count": 37,
   "metadata": {
    "colab": {
     "base_uri": "https://localhost:8080/",
     "height": 34
    },
    "colab_type": "code",
    "executionInfo": {
     "elapsed": 1063,
     "status": "ok",
     "timestamp": 1547045806046,
     "user": {
      "displayName": "Daniel San Martín",
      "photoUrl": "https://lh4.googleusercontent.com/-xj_b6QASR9g/AAAAAAAAAAI/AAAAAAAAABc/MAAqQCVKo5I/s64/photo.jpg",
      "userId": "16014787961842903941"
     },
     "user_tz": 180
    },
    "id": "GXgI05ecGTFZ",
    "outputId": "ec61ddd1-b2eb-4ed0-bbb6-aa9f8238222e",
    "scrolled": true,
    "slideshow": {
     "slide_type": "-"
    }
   },
   "outputs": [
    {
     "name": "stdout",
     "output_type": "stream",
     "text": [
      "Hola mundo\n"
     ]
    }
   ],
   "source": [
    "print(\"Hola mundo\")"
   ]
  },
  {
   "cell_type": "code",
   "execution_count": 38,
   "metadata": {
    "colab": {},
    "colab_type": "code",
    "id": "kpqevY9VGTFb",
    "slideshow": {
     "slide_type": "slide"
    }
   },
   "outputs": [
    {
     "name": "stdout",
     "output_type": "stream",
     "text": [
      "El doble de a es 4\n"
     ]
    }
   ],
   "source": [
    "a = 2\n",
    "print(\"El doble de a es\",a*2)"
   ]
  },
  {
   "cell_type": "code",
   "execution_count": 39,
   "metadata": {
    "colab": {
     "base_uri": "https://localhost:8080/",
     "height": 34
    },
    "colab_type": "code",
    "executionInfo": {
     "elapsed": 993,
     "status": "ok",
     "timestamp": 1547045860930,
     "user": {
      "displayName": "Daniel San Martín",
      "photoUrl": "https://lh4.googleusercontent.com/-xj_b6QASR9g/AAAAAAAAAAI/AAAAAAAAABc/MAAqQCVKo5I/s64/photo.jpg",
      "userId": "16014787961842903941"
     },
     "user_tz": 180
    },
    "id": "iVVZ-AhEGTFg",
    "outputId": "4f2bc335-3703-4356-9884-e688a72171e4",
    "slideshow": {
     "slide_type": "-"
    }
   },
   "outputs": [
    {
     "name": "stdout",
     "output_type": "stream",
     "text": [
      "2 x 3 = 6\n"
     ]
    }
   ],
   "source": [
    "a = 2\n",
    "b = 3\n",
    "print(a,\"x\",b,\"=\",a*b)"
   ]
  },
  {
   "cell_type": "code",
   "execution_count": 40,
   "metadata": {
    "slideshow": {
     "slide_type": "-"
    }
   },
   "outputs": [
    {
     "name": "stdout",
     "output_type": "stream",
     "text": [
      "2x3=6\n"
     ]
    }
   ],
   "source": [
    "print(str(a)+\"x\"+str(b)+\"=\"+str(a*b))"
   ]
  },
  {
   "cell_type": "code",
   "execution_count": 41,
   "metadata": {
    "colab": {
     "base_uri": "https://localhost:8080/",
     "height": 51
    },
    "colab_type": "code",
    "executionInfo": {
     "elapsed": 776,
     "status": "ok",
     "timestamp": 1547045852291,
     "user": {
      "displayName": "Daniel San Martín",
      "photoUrl": "https://lh4.googleusercontent.com/-xj_b6QASR9g/AAAAAAAAAAI/AAAAAAAAABc/MAAqQCVKo5I/s64/photo.jpg",
      "userId": "16014787961842903941"
     },
     "user_tz": 180
    },
    "id": "Hn5Jui3-GTFj",
    "outputId": "6a4c0ffc-ec55-4f2c-bea8-dd305f1f7731",
    "slideshow": {
     "slide_type": "-"
    }
   },
   "outputs": [
    {
     "name": "stdout",
     "output_type": "stream",
     "text": [
      "2\n",
      "3\n"
     ]
    }
   ],
   "source": [
    "print(a)\n",
    "print(b)"
   ]
  },
  {
   "cell_type": "markdown",
   "metadata": {
    "colab_type": "text",
    "id": "74ffU3YYGTFz",
    "slideshow": {
     "slide_type": "slide"
    }
   },
   "source": [
    "# Comentarios\n",
    "- Son líneas o segmentos de código ignorados.\n",
    "- Se utilizan para explicar el código.\n",
    "- Es una buena práctica incluir comentarios, pero no abusar."
   ]
  },
  {
   "cell_type": "code",
   "execution_count": 42,
   "metadata": {
    "slideshow": {
     "slide_type": "-"
    }
   },
   "outputs": [
    {
     "name": "stdout",
     "output_type": "stream",
     "text": [
      "4\n"
     ]
    }
   ],
   "source": [
    "print(2 + 2)  # Imprime la suma de 2 + 2 en la pantalla (obvio)"
   ]
  },
  {
   "cell_type": "markdown",
   "metadata": {
    "slideshow": {
     "slide_type": "slide"
    }
   },
   "source": [
    "## Funciones básicas\n",
    "\n",
    "Python incluye un conjunto de funciones que pueden ser utilizadas para obtener un valor.\n",
    "\n",
    "Por ahora, veremos solo la función matemática para redondear un número decimal."
   ]
  },
  {
   "cell_type": "markdown",
   "metadata": {
    "slideshow": {
     "slide_type": "slide"
    }
   },
   "source": [
    "### Función `round()`\n",
    "\n",
    "La función `round()` retorna un número que es la versión aproximada del valor recibido, con una cantidad específica de decimales.\n",
    "\n",
    "\n",
    "\n",
    "**Sintaxis:**\n",
    "```python\n",
    "round(número, decimales)\n",
    "```\n",
    "\n",
    "La cantidad de decimales es opcional. Si no se especifica, entonces la función devolverá el entero más cercano del número.\n"
   ]
  },
  {
   "cell_type": "markdown",
   "metadata": {
    "slideshow": {
     "slide_type": "slide"
    }
   },
   "source": [
    "Ejemplos de la función `round()`:"
   ]
  },
  {
   "cell_type": "code",
   "execution_count": 43,
   "metadata": {
    "slideshow": {
     "slide_type": "-"
    }
   },
   "outputs": [
    {
     "name": "stdout",
     "output_type": "stream",
     "text": [
      "5.77\n"
     ]
    }
   ],
   "source": [
    "print(round(5.76543, 2))"
   ]
  },
  {
   "cell_type": "code",
   "execution_count": 44,
   "metadata": {
    "slideshow": {
     "slide_type": "-"
    }
   },
   "outputs": [
    {
     "name": "stdout",
     "output_type": "stream",
     "text": [
      "6\n"
     ]
    }
   ],
   "source": [
    "print(round(5.76543))"
   ]
  }
 ],
 "metadata": {
  "celltoolbar": "Slideshow",
  "colab": {
   "collapsed_sections": [],
   "name": "Clase01_Intro_Programación_2019.ipynb",
   "provenance": [],
   "version": "0.3.2"
  },
  "kernelspec": {
   "display_name": "Python 3",
   "language": "python",
   "name": "python3"
  },
  "language_info": {
   "codemirror_mode": {
    "name": "ipython",
    "version": 3
   },
   "file_extension": ".py",
   "mimetype": "text/x-python",
   "name": "python",
   "nbconvert_exporter": "python",
   "pygments_lexer": "ipython3",
   "version": "3.8.5"
  }
 },
 "nbformat": 4,
 "nbformat_minor": 1
}
