{
 "cells": [
  {
   "cell_type": "markdown",
   "metadata": {
    "slideshow": {
     "slide_type": "slide"
    }
   },
   "source": [
    "<div align=\"center\">\n",
    "<h2>TEL-101 Iniciación a la Programación</h2><br/>\n",
    "<h1>Diccionarios</h1>\n",
    "<br/><br/>\n",
    "Prof. Nicolás Torres<br/>\n",
    "<a href=\"mailto:nicolas.torresr@usm.cl\">nicolas.torresr@usm.cl</a><br/>\n",
    "Ingeniería Civil Telemática<br/>\n",
    "Departamento de Electrónica<br/>\n",
    "Universidad Técnica Federico Santa María\n",
    "</div>"
   ]
  },
  {
   "cell_type": "markdown",
   "metadata": {
    "slideshow": {
     "slide_type": "slide"
    }
   },
   "source": [
    "# Diccionarios\n",
    "Un diccionario se define usando los paréntesis `{ }`.\n",
    "\n",
    "Cada elemento dentro del diccionario tiene el formato **`llave:valor`**, vale decir, se genera una estructura como la siguiente:\n",
    "\n",
    "```python\n",
    "{llave1: valor1, llave2: valor2, ... }\n",
    "```\n",
    "\n",
    "Se asocian pares formados por una llave y un valor."
   ]
  },
  {
   "cell_type": "markdown",
   "metadata": {
    "slideshow": {
     "slide_type": "slide"
    }
   },
   "source": [
    "- La **llave** es el identificador de cada valor, debe ser un tipo de dato **inmutable** (`str`, `int`, `tuple`, `float`) y no puede repetirse (es **única** dentro del diccionario).\n",
    "- El **valor** puede repetirse y ser de cualquier tipo de dato."
   ]
  },
  {
   "cell_type": "markdown",
   "metadata": {
    "slideshow": {
     "slide_type": "slide"
    }
   },
   "source": [
    "### Ejemplos de diccionarios\n",
    "\n",
    "Ejemplo 1: un diccionario para almacenar los colores en español como llaves y los valores son los colores en inglés.\n",
    "\n",
    "```python\n",
    "colores = {'amarillo': 'yellow', 'azul': 'blue', 'verde': 'green'}\n",
    "```\n",
    "\n",
    "Ejemplo 2: un diccionario para almacenar como llaves los animales y los valores son la cantidad de extremidades.\n",
    "\n",
    "```python\n",
    "patas = {'pulpo': 8, 'perro': 4, 'cienpies': 100, 'gato': 4}\n",
    "```"
   ]
  },
  {
   "cell_type": "markdown",
   "metadata": {
    "slideshow": {
     "slide_type": "slide"
    }
   },
   "source": [
    "## Indexación\n",
    "\n",
    "Los diccionarios NO tienen posiciones establecidas como las listas y tuplas. Por lo tanto, no tienen orden. Solo poseen llaves que permiten acceder a un valor:\n",
    "\n",
    "\n",
    "```python\n",
    ">>> d = {llave1:valor1, llave2:valor2, ...}\n",
    ">>> print(d[llave2])\n",
    "valor2\n",
    "```\n"
   ]
  },
  {
   "cell_type": "code",
   "execution_count": 1,
   "metadata": {
    "slideshow": {
     "slide_type": "slide"
    }
   },
   "outputs": [],
   "source": [
    "d = {1:2, 3:4}"
   ]
  },
  {
   "cell_type": "code",
   "execution_count": 2,
   "metadata": {
    "slideshow": {
     "slide_type": "-"
    }
   },
   "outputs": [
    {
     "name": "stdout",
     "output_type": "stream",
     "text": [
      "2\n"
     ]
    }
   ],
   "source": [
    "print(d[1])"
   ]
  },
  {
   "cell_type": "code",
   "execution_count": 3,
   "metadata": {
    "slideshow": {
     "slide_type": "-"
    }
   },
   "outputs": [
    {
     "ename": "KeyError",
     "evalue": "0",
     "output_type": "error",
     "traceback": [
      "\u001b[0;31m---------------------------------------------------------------------------\u001b[0m",
      "\u001b[0;31mKeyError\u001b[0m                                  Traceback (most recent call last)",
      "\u001b[0;32m<ipython-input-3-c7332189be96>\u001b[0m in \u001b[0;36m<module>\u001b[0;34m\u001b[0m\n\u001b[0;32m----> 1\u001b[0;31m \u001b[0mprint\u001b[0m\u001b[0;34m(\u001b[0m\u001b[0md\u001b[0m\u001b[0;34m[\u001b[0m\u001b[0;36m0\u001b[0m\u001b[0;34m]\u001b[0m\u001b[0;34m)\u001b[0m\u001b[0;34m\u001b[0m\u001b[0;34m\u001b[0m\u001b[0m\n\u001b[0m",
      "\u001b[0;31mKeyError\u001b[0m: 0"
     ]
    }
   ],
   "source": [
    "print(d[0])"
   ]
  },
  {
   "cell_type": "markdown",
   "metadata": {
    "slideshow": {
     "slide_type": "slide"
    }
   },
   "source": [
    "## Modificar un elemento de un diccionario\n",
    "\n",
    "```python\n",
    "diccionario[llave] = valor\n",
    "```\n",
    "\n",
    "- Si la `llave` no existe, se crea con ese `valor`.\n",
    "- Si la `llave` ya existe, se reemplaza su `valor`."
   ]
  },
  {
   "cell_type": "code",
   "execution_count": 4,
   "metadata": {
    "slideshow": {
     "slide_type": "slide"
    }
   },
   "outputs": [],
   "source": [
    "d = {}"
   ]
  },
  {
   "cell_type": "code",
   "execution_count": 5,
   "metadata": {
    "slideshow": {
     "slide_type": "-"
    }
   },
   "outputs": [],
   "source": [
    "# La llave 1 no existe, se crea con valor 2 asociado.\n",
    "d[1] = 2"
   ]
  },
  {
   "cell_type": "code",
   "execution_count": 6,
   "metadata": {
    "slideshow": {
     "slide_type": "-"
    }
   },
   "outputs": [
    {
     "name": "stdout",
     "output_type": "stream",
     "text": [
      "{1: 2}\n"
     ]
    }
   ],
   "source": [
    "print (d)"
   ]
  },
  {
   "cell_type": "code",
   "execution_count": 7,
   "metadata": {
    "slideshow": {
     "slide_type": "slide"
    }
   },
   "outputs": [],
   "source": [
    "# La llave 2 no existe, se crea con valor 3 asociado.\n",
    "d[2] = 3"
   ]
  },
  {
   "cell_type": "code",
   "execution_count": 8,
   "metadata": {
    "slideshow": {
     "slide_type": "-"
    }
   },
   "outputs": [
    {
     "name": "stdout",
     "output_type": "stream",
     "text": [
      "{1: 2, 2: 3}\n"
     ]
    }
   ],
   "source": [
    "print(d)"
   ]
  },
  {
   "cell_type": "code",
   "execution_count": 9,
   "metadata": {
    "slideshow": {
     "slide_type": "-"
    }
   },
   "outputs": [],
   "source": [
    "# La llave 1 ya existe, se reemplaza su valor asociado a 3.\n",
    "d[1] = 3"
   ]
  },
  {
   "cell_type": "code",
   "execution_count": 10,
   "metadata": {
    "slideshow": {
     "slide_type": "-"
    }
   },
   "outputs": [
    {
     "name": "stdout",
     "output_type": "stream",
     "text": [
      "{1: 3, 2: 3}\n"
     ]
    }
   ],
   "source": [
    "print(d)"
   ]
  },
  {
   "cell_type": "markdown",
   "metadata": {
    "slideshow": {
     "slide_type": "slide"
    }
   },
   "source": [
    "### Eliminar un elemento\n",
    "\n",
    "```python\n",
    "del diccionario[llave]\n",
    "```\n",
    "\n",
    "Los elementos se eliminan a través de las llaves."
   ]
  },
  {
   "cell_type": "code",
   "execution_count": 11,
   "metadata": {
    "slideshow": {
     "slide_type": "-"
    }
   },
   "outputs": [],
   "source": [
    "d = {1:2, 3:4}"
   ]
  },
  {
   "cell_type": "code",
   "execution_count": 12,
   "metadata": {
    "slideshow": {
     "slide_type": "-"
    }
   },
   "outputs": [],
   "source": [
    "del d[1]"
   ]
  },
  {
   "cell_type": "code",
   "execution_count": 13,
   "metadata": {
    "slideshow": {
     "slide_type": "-"
    }
   },
   "outputs": [
    {
     "name": "stdout",
     "output_type": "stream",
     "text": [
      "{3: 4}\n"
     ]
    }
   ],
   "source": [
    "print(d)"
   ]
  },
  {
   "cell_type": "markdown",
   "metadata": {
    "slideshow": {
     "slide_type": "slide"
    }
   },
   "source": [
    "### Funciones y operaciones sobre diccionarios"
   ]
  },
  {
   "cell_type": "code",
   "execution_count": 14,
   "metadata": {
    "slideshow": {
     "slide_type": "-"
    }
   },
   "outputs": [],
   "source": [
    "d = {1:2, 3:4, 5:6}"
   ]
  },
  {
   "cell_type": "code",
   "execution_count": 15,
   "metadata": {
    "slideshow": {
     "slide_type": "-"
    }
   },
   "outputs": [
    {
     "data": {
      "text/plain": [
       "3"
      ]
     },
     "execution_count": 15,
     "metadata": {},
     "output_type": "execute_result"
    }
   ],
   "source": [
    "len(d)"
   ]
  },
  {
   "cell_type": "code",
   "execution_count": 16,
   "metadata": {
    "slideshow": {
     "slide_type": "-"
    }
   },
   "outputs": [
    {
     "data": {
      "text/plain": [
       "True"
      ]
     },
     "execution_count": 16,
     "metadata": {},
     "output_type": "execute_result"
    }
   ],
   "source": [
    "1 in d"
   ]
  },
  {
   "cell_type": "code",
   "execution_count": 17,
   "metadata": {
    "slideshow": {
     "slide_type": "-"
    }
   },
   "outputs": [
    {
     "data": {
      "text/plain": [
       "False"
      ]
     },
     "execution_count": 17,
     "metadata": {},
     "output_type": "execute_result"
    }
   ],
   "source": [
    "2 in d"
   ]
  },
  {
   "cell_type": "markdown",
   "metadata": {
    "slideshow": {
     "slide_type": "slide"
    }
   },
   "source": [
    "### Ciclo for sobre diccionarios\n",
    "\n",
    "No es necesario recorrer un diccionario para buscar un valor si se conoce la llave. Sin embargo, si desea imprimir todos sus elementos puede recorrer un diccionario usando un ciclo `for`:\n",
    "\n",
    "```python\n",
    "for llave in diccionario:\n",
    "    print(\"llave:\",llave,\"valor:\",diccionario[llave])\n",
    "```\n",
    "\n",
    "El ciclo `for` asigna a la variable cada una de las llaves del diccionario."
   ]
  },
  {
   "cell_type": "code",
   "execution_count": 18,
   "metadata": {
    "slideshow": {
     "slide_type": "slide"
    }
   },
   "outputs": [
    {
     "name": "stdout",
     "output_type": "stream",
     "text": [
      "La capital de Chile es Santiago\n",
      "La capital de Peru es Lima\n",
      "La capital de Ecuador es Quito\n"
     ]
    }
   ],
   "source": [
    "capitales = {'Chile': 'Santiago', 'Peru': 'Lima', 'Ecuador': 'Quito'}\n",
    "\n",
    "for pais in capitales:\n",
    "    print(\"La capital de\",pais,\"es\",capitales[pais])"
   ]
  },
  {
   "cell_type": "markdown",
   "metadata": {
    "slideshow": {
     "slide_type": "slide"
    }
   },
   "source": [
    "## Uso de los diccionarios en Python\n",
    "\n",
    "- Contabilizar el número de ocurrencias de todos los elementos:\n",
    "```python\n",
    "{'Manzanas': 2, 'Naranjas': 1, 'Fideos': 4}\n",
    "```\n",
    "\n",
    "- Categorizar cada elemento en una categoría:\n",
    "```python\n",
    "{'Frutas': ['Manzanas', 'Naranjas'], 'Despensa': ['Fideos']}\n",
    "```"
   ]
  },
  {
   "cell_type": "markdown",
   "metadata": {
    "slideshow": {
     "slide_type": "slide"
    }
   },
   "source": [
    "## Patrón de Contabilizar\n",
    "\n",
    "```python\n",
    "d = {}\n",
    "for elemento in datos:\n",
    "    if elemento not in d:\n",
    "        d[elemento] = 0\n",
    "    d[elemento] += 1\n",
    "```"
   ]
  },
  {
   "cell_type": "code",
   "execution_count": 19,
   "metadata": {
    "slideshow": {
     "slide_type": "slide"
    }
   },
   "outputs": [
    {
     "name": "stdout",
     "output_type": "stream",
     "text": [
      "{'luis': 1, 'ana': 4, 'pedro': 2, 'juan': 1}\n"
     ]
    }
   ],
   "source": [
    "lista = ['luis', 'ana', 'pedro', 'ana', 'juan', 'ana', 'ana', 'pedro']\n",
    "\n",
    "d = {}\n",
    "for nombre in lista:\n",
    "    if nombre not in d:\n",
    "        d[nombre] = 0\n",
    "    d[nombre] += 1\n",
    "print (d)"
   ]
  },
  {
   "cell_type": "markdown",
   "metadata": {
    "slideshow": {
     "slide_type": "slide"
    }
   },
   "source": [
    "## Patrón de Categorizar\n",
    "\n",
    "```python\n",
    "d = {}\n",
    "for elemento,categoría in datos:\n",
    "    if categoría not in d:\n",
    "        d[categoría] = []\n",
    "    d[categoría].append(elemento)\n",
    "```"
   ]
  },
  {
   "cell_type": "code",
   "execution_count": 20,
   "metadata": {
    "slideshow": {
     "slide_type": "slide"
    }
   },
   "outputs": [
    {
     "name": "stdout",
     "output_type": "stream",
     "text": [
      "{'Italia': ['Roma', 'Venecia', 'Florencia'], 'Francia': ['Paris', 'Lyon'], 'Alemania': ['Frankfurt']}\n"
     ]
    }
   ],
   "source": [
    "lista = [('Roma', 'Italia'), ('Paris', 'Francia'), ('Venecia','Italia'), ('Lyon','Francia'), ('Frankfurt', 'Alemania'), ('Florencia', 'Italia')]\n",
    "\n",
    "d = {}\n",
    "for ciudad,país in lista:\n",
    "    if país not in d:\n",
    "        d[país] = []\n",
    "    d[país].append(ciudad)\n",
    "print (d)"
   ]
  }
 ],
 "metadata": {
  "celltoolbar": "Slideshow",
  "kernelspec": {
   "display_name": "Python 3",
   "language": "python",
   "name": "python3"
  },
  "language_info": {
   "codemirror_mode": {
    "name": "ipython",
    "version": 3
   },
   "file_extension": ".py",
   "mimetype": "text/x-python",
   "name": "python",
   "nbconvert_exporter": "python",
   "pygments_lexer": "ipython3",
   "version": "3.8.8"
  }
 },
 "nbformat": 4,
 "nbformat_minor": 4
}
