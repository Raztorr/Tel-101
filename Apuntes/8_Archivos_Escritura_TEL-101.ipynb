{
 "cells": [
  {
   "cell_type": "markdown",
   "metadata": {
    "slideshow": {
     "slide_type": "slide"
    }
   },
   "source": [
    "<div align=\"center\">\n",
    "<h2>TEL-101 Iniciación a la Programación</h2><br/>\n",
    "<h1>Escritura de Archivos</h1>\n",
    "<br/><br/>\n",
    "Prof. Nicolás Torres<br/>\n",
    "<a href=\"mailto:nicolas.torresr@usm.cl\">nicolas.torresr@usm.cl</a><br/>\n",
    "Ingeniería Civil Telemática<br/>\n",
    "Departamento de Electrónica<br/>\n",
    "Universidad Técnica Federico Santa María\n",
    "</div>"
   ]
  },
  {
   "cell_type": "markdown",
   "metadata": {
    "slideshow": {
     "slide_type": "slide"
    }
   },
   "source": [
    "# Escritura de Archivos en Python\n",
    "\n",
    "Para poder escribir en un archivo se debe abrir en modo escritura y utilizar la función `write()`.\n",
    "\n",
    "```python\n",
    "archivo.write(texto)\n",
    "```\n",
    "\n",
    "Esta función escribe un `texto` específico dentro del archivo. "
   ]
  },
  {
   "cell_type": "markdown",
   "metadata": {
    "slideshow": {
     "slide_type": "slide"
    }
   },
   "source": [
    "La ubicación donde se inserta el texto depende del modo de acceso:\n",
    "- `\"a\"`: el texto se agrega al final del archivo.\n",
    "- `\"w\"`: el archivo se vacía antes de escribir el texto al comienzo.\n",
    "\n",
    "Usted debe incluir el caracter especial `\"\\n\"` dentro del texto para saltarse una línea."
   ]
  },
  {
   "cell_type": "markdown",
   "metadata": {
    "slideshow": {
     "slide_type": "slide"
    }
   },
   "source": [
    "### Ejemplo 1\n",
    "Crear un archivo de prueba y escribir una frase. "
   ]
  },
  {
   "cell_type": "code",
   "execution_count": 1,
   "metadata": {
    "slideshow": {
     "slide_type": "-"
    }
   },
   "outputs": [],
   "source": [
    "archivo = open(\"prueba.txt\", \"w\")\n",
    "archivo.write(\"Hola\\nMundo\")\n",
    "archivo.close()"
   ]
  },
  {
   "cell_type": "markdown",
   "metadata": {
    "slideshow": {
     "slide_type": "-"
    }
   },
   "source": [
    "**Archivo generado:**\n",
    "```\n",
    "Hola\n",
    "Mundo\n",
    "```"
   ]
  },
  {
   "cell_type": "markdown",
   "metadata": {
    "slideshow": {
     "slide_type": "slide"
    }
   },
   "source": [
    "### Ejemplo 2: escritura de archivos con separadores\n",
    "\n",
    "Las notas de programación se almacenan en el archivo <tt>notas.txt</tt>, donde cada línea contiene el nombre de una persona y sus notas. Los campos están separados por el caracter dos puntos (\"`:`\"). Por ejemplo:\n",
    "\n",
    "```\n",
    "Scott:53:37:67:67:71:55\n",
    "Liz:80:27:50:44:66:20\n",
    "Erica:71:86:64:71:58:93\n",
    "Steve:52:47:18:35:27:45\n",
    "```\n",
    "\n",
    "Escriba un programa que genere los archivos <tt>aprobados.txt</tt> y <tt>reprobados.txt</tt>, con los respectivos nombres y promedios.\n"
   ]
  },
  {
   "cell_type": "code",
   "execution_count": 2,
   "metadata": {
    "slideshow": {
     "slide_type": "slide"
    }
   },
   "outputs": [],
   "source": [
    "archivo_notas = open('notas.txt', 'r')\n",
    "archivo_reprobados = open('reprobados.txt', 'w')\n",
    "archivo_aprobados = open('aprobados.txt', 'w')\n",
    "for linea in archivo_notas:\n",
    "    lista = linea.strip().split(':')\n",
    "    nombre = lista[0]\n",
    "    suma = 0\n",
    "    for nota in lista[1:]:\n",
    "        suma += int(nota)\n",
    "    promedio = round(suma / (len(lista)-1))\n",
    "    if promedio < 55:        \n",
    "        archivo_reprobados.write('{} {}\\n'.format(nombre,promedio)) \n",
    "    else:        \n",
    "        archivo_aprobados.write(f'{nombre} {promedio}\\n')        \n",
    "archivo_notas.close()\n",
    "archivo_reprobados.close()\n",
    "archivo_aprobados.close()"
   ]
  },
  {
   "cell_type": "markdown",
   "metadata": {
    "slideshow": {
     "slide_type": "slide"
    }
   },
   "source": [
    "# Modificar un archivo\n",
    "\n",
    "Para modificar una parte de un archivo, una opción es abrirlo en modo lectura, guardar el contenido en una lista, modificar el elemento que corresponda y cerrar el archivo. Luego, volver a abrirlo en modo sobreescritura, escribir el contenido de la lista y cerrarlo para guardar.\n",
    "\n",
    "Esta opción solamente es válida si el contenido del archivo se puede almacenar en memoria principal."
   ]
  },
  {
   "cell_type": "markdown",
   "metadata": {
    "slideshow": {
     "slide_type": "slide"
    }
   },
   "source": [
    "### Ejemplo 3\n",
    "<p>Reemplazar todas las letras <i>\"a\"</i>, del archivo <tt>poema.txt</tt>, por la letra <i>\"i\"</i>.</p>\n",
    "\n",
    "```\n",
    "adivina ya te opina,\n",
    "ya ni miles origina,\n",
    "ya ni cetro me domina\n",
    "```"
   ]
  },
  {
   "cell_type": "code",
   "execution_count": 3,
   "metadata": {
    "slideshow": {
     "slide_type": "slide"
    }
   },
   "outputs": [],
   "source": [
    "lista = []\n",
    "archivo = open(\"poema.txt\", \"r\")\n",
    "for linea in archivo:\n",
    "    lista.append(linea.replace('a', 'i'))\n",
    "archivo.close()\n",
    "archivo = open(\"poema.txt\", \"w\")\n",
    "for linea in lista:\n",
    "    archivo.write(linea)\n",
    "archivo.close()"
   ]
  },
  {
   "cell_type": "markdown",
   "metadata": {
    "slideshow": {
     "slide_type": "slide"
    }
   },
   "source": [
    "Si el archivo es muy extenso y no es posible almacenar todo su contenido en memoria principal, se recomienda trabajar con un archivo temporal donde se van escribiendo línea a línea los nuevos datos y renombrarlo al final con el método `replace` del módulo `os`.\n",
    "\n",
    "```python\n",
    "import os\n",
    "os.replace(fuente, destino)\n",
    "```\n",
    "\n",
    "Renombra el archivo llamado `fuente` con el nombre `destino`. Si el archivo `destino` existe será reemplazado. El usuario debe contar con los permisos."
   ]
  }
 ],
 "metadata": {
  "celltoolbar": "Slideshow",
  "kernelspec": {
   "display_name": "Python 3",
   "language": "python",
   "name": "python3"
  },
  "language_info": {
   "codemirror_mode": {
    "name": "ipython",
    "version": 3
   },
   "file_extension": ".py",
   "mimetype": "text/x-python",
   "name": "python",
   "nbconvert_exporter": "python",
   "pygments_lexer": "ipython3",
   "version": "3.8.8"
  }
 },
 "nbformat": 4,
 "nbformat_minor": 4
}
