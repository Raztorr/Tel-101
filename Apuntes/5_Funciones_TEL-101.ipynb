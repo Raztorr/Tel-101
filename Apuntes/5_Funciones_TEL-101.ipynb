{
 "cells": [
  {
   "cell_type": "markdown",
   "metadata": {
    "slideshow": {
     "slide_type": "slide"
    }
   },
   "source": [
    "<div align=\"center\">\n",
    "<h2>TEL-101 Iniciación a la Programación</h2><br/>\n",
    "<h1>Funciones</h1>\n",
    "<br/><br/>\n",
    "Prof. Nicolás Torres<br/>\n",
    "<a href=\"mailto:nicolas.torresr@usm.cl\">nicolas.torresr@usm.cl</a><br/>\n",
    "Ingeniería Civil Telemática<br/>\n",
    "Departamento de Electrónica<br/>\n",
    "Universidad Técnica Federico Santa María\n",
    "</div>"
   ]
  },
  {
   "cell_type": "markdown",
   "metadata": {
    "slideshow": {
     "slide_type": "slide"
    }
   },
   "source": [
    "# Funciones"
   ]
  },
  {
   "cell_type": "markdown",
   "metadata": {
    "slideshow": {
     "slide_type": "-"
    }
   },
   "source": [
    "Segmento de código que realiza instrucciones que pueden ser utilizadas en cualquier parte de un programa."
   ]
  },
  {
   "cell_type": "markdown",
   "metadata": {
    "slideshow": {
     "slide_type": "-"
    }
   },
   "source": [
    "Sirven para:\n",
    "* Modularizar código $\\rightarrow$ segmentos independientes $\\rightarrow$ **subprogramas**\n",
    "* Reutilizar código $\\rightarrow$ programar genéricamente **una vez** $\\rightarrow$ **varios** y diferentes usos."
   ]
  },
  {
   "cell_type": "markdown",
   "metadata": {
    "slideshow": {
     "slide_type": "slide"
    }
   },
   "source": [
    "# Creación de funciones\n",
    "\n",
    "Una función posee un nombre asociado, recibe cero o más valores de entrada (argumentos) y devuelve un valor como salida.\n",
    "\n",
    "```python\n",
    "def nombre_funcion(parámetro1, parámetro2, parámetro3,...):\n",
    "        # Instrucciones\n",
    "        return valor\n",
    "```"
   ]
  },
  {
   "cell_type": "markdown",
   "metadata": {
    "slideshow": {
     "slide_type": "slide"
    }
   },
   "source": [
    "# Conceptos claves\n",
    "\n",
    "### Parámetros\n",
    "Variables que reciben los valores de entrada.\n",
    "\n",
    "### Retorno\n",
    "Valor que entrega como salida la función. Al retornar un valor la función termina y el programa vuelve a la línea donde fue invocada (llamada).\n",
    "\n",
    "### Variables locales\n",
    "Las variables que son creadas dentro de la función (incluyendo los parámetros), se llaman variables locales, y solo son visibles dentro de la función, no desde el resto del programa. Una vez que la función termina su ejecución, estas variables dejan de existir."
   ]
  },
  {
   "cell_type": "markdown",
   "metadata": {
    "slideshow": {
     "slide_type": "slide"
    }
   },
   "source": [
    "# Llamados a funciones"
   ]
  },
  {
   "cell_type": "markdown",
   "metadata": {
    "slideshow": {
     "slide_type": "-"
    }
   },
   "source": [
    "Al llamar a una función la ejecución del programa se traslada al código de la función, copiando a los parámetros los argumentos utilizados en el llamado. Cuando la función termina, la ejecución vuelve al punto del llamado, llevando consigo el valor de retorno."
   ]
  },
  {
   "cell_type": "markdown",
   "metadata": {
    "slideshow": {
     "slide_type": "-"
    }
   },
   "source": [
    "Ejemplos de llamados a una función:\n",
    "```python\n",
    "# El resultado de la función se almacena en una variable\n",
    "variable = nombre_funcion(argumento1, argumento2, argumento3,...)\n",
    "\n",
    "# El resultado de la función se imprime por pantalla\n",
    "print(nombre_funcion(argumento1, argumento2, argumento3,...))\n",
    "```"
   ]
  },
  {
   "cell_type": "markdown",
   "metadata": {
    "slideshow": {
     "slide_type": "slide"
    }
   },
   "source": [
    "### Ejemplo"
   ]
  },
  {
   "cell_type": "code",
   "execution_count": 1,
   "metadata": {
    "slideshow": {
     "slide_type": "-"
    }
   },
   "outputs": [],
   "source": [
    "def suma(x,y):\n",
    "    return x+y"
   ]
  },
  {
   "cell_type": "code",
   "execution_count": 2,
   "metadata": {
    "slideshow": {
     "slide_type": "fragment"
    }
   },
   "outputs": [
    {
     "name": "stdout",
     "output_type": "stream",
     "text": [
      "La suma de 1 más 2 es 3\n"
     ]
    }
   ],
   "source": [
    "print(\"La suma de 1 más 2 es\",suma(1,2))"
   ]
  },
  {
   "cell_type": "code",
   "execution_count": 3,
   "metadata": {
    "slideshow": {
     "slide_type": "slide"
    }
   },
   "outputs": [
    {
     "name": "stdout",
     "output_type": "stream",
     "text": [
      "Ingrese número: 2\n",
      "Ingrese número: 3\n",
      "La suma de 2 más 3 es 5\n"
     ]
    }
   ],
   "source": [
    "a=int(input(\"Ingrese número: \"))\n",
    "b=int(input(\"Ingrese número: \"))\n",
    "c=suma(a,b)\n",
    "\n",
    "print(\"La suma de\",a,\"más\",b,\"es\",c)"
   ]
  },
  {
   "cell_type": "code",
   "execution_count": 4,
   "metadata": {
    "slideshow": {
     "slide_type": "slide"
    }
   },
   "outputs": [
    {
     "name": "stdout",
     "output_type": "stream",
     "text": [
      "6.75\n",
      "12\n",
      "[1, 2, 3, 4, 5]\n"
     ]
    }
   ],
   "source": [
    "print(suma(2.5,4.25))\n",
    "print(suma('1','2'))\n",
    "print(suma([1,2,3],[4,5]))"
   ]
  },
  {
   "cell_type": "markdown",
   "metadata": {
    "slideshow": {
     "slide_type": "slide"
    }
   },
   "source": [
    "## Visualizar la ejecución del código\n",
    "\n",
    "\n",
    "### Ejemplo 1\n",
    "```python\n",
    "def suma(x,y):\n",
    "    return x+y\n",
    "\n",
    "a = 1\n",
    "b = suma(a,2)\n",
    "print(b)\n",
    "```\n",
    "\n",
    "http://pythontutor.com/iframe-embed.html#code=def%20fun%28x,%20y%29%3A%0A%20%20%20%20return%20x%20%2B%20y%0A%20%20%20%20%0Aa%20%3D%201%0Ab%20%3D%20fun%28a,%202%29%0Aprint%20%28b%29&codeDivHeight=400&codeDivWidth=350&cumulative=false&curInstr=0&heapPrimitives=nevernest&origin=opt-frontend.js&py=3&rawInputLstJSON=%5B%5D&textReferences=false"
   ]
  },
  {
   "cell_type": "markdown",
   "metadata": {
    "slideshow": {
     "slide_type": "slide"
    }
   },
   "source": [
    "## Visualizar la ejecución del código\n",
    "\n",
    "\n",
    "### Ejemplo 2\n",
    "```python\n",
    "def prom(a,b,c):\n",
    "    p = (a+b+c)/3\n",
    "    return p\n",
    "\n",
    "print(prom(40,20,90))\n",
    "```\n",
    "\n",
    "http://pythontutor.com/iframe-embed.html#code=def%20prom%28a,b,c%29%3A%0A%20%20%20%20p%20%3D%20%28a%2Bb%2Bc%29/3%0A%20%20%20%20return%20p%0A%20%20%20%20%0Aprint%20%28prom%2840,20,90%29%29&codeDivHeight=400&codeDivWidth=350&cumulative=false&curInstr=0&heapPrimitives=nevernest&origin=opt-frontend.js&py=3&rawInputLstJSON=%5B%5D&textReferences=false"
   ]
  },
  {
   "cell_type": "markdown",
   "metadata": {
    "slideshow": {
     "slide_type": "skip"
    }
   },
   "source": [
    "### Ejemplo"
   ]
  },
  {
   "cell_type": "code",
   "execution_count": null,
   "metadata": {
    "slideshow": {
     "slide_type": "skip"
    }
   },
   "outputs": [],
   "source": [
    "# required to load the extension\n",
    "%load_ext ipythontutor"
   ]
  },
  {
   "cell_type": "code",
   "execution_count": null,
   "metadata": {
    "scrolled": true,
    "slideshow": {
     "slide_type": "skip"
    }
   },
   "outputs": [],
   "source": [
    "%%ipythontutor height=400 width=800\n",
    "def suma(x,y):\n",
    "    return x+y\n",
    "\n",
    "a = 1\n",
    "b = suma(a,2)\n",
    "print(b)"
   ]
  },
  {
   "cell_type": "code",
   "execution_count": null,
   "metadata": {
    "scrolled": false,
    "slideshow": {
     "slide_type": "skip"
    }
   },
   "outputs": [],
   "source": [
    "%%ipythontutor height=400 width=800\n",
    "def prom(a,b,c):\n",
    "    p = (a+b+c)/3\n",
    "    return p\n",
    "\n",
    "print(prom(40,20,90))"
   ]
  },
  {
   "cell_type": "markdown",
   "metadata": {
    "slideshow": {
     "slide_type": "slide"
    }
   },
   "source": [
    "# Diferencias entre variables locales y globales"
   ]
  },
  {
   "cell_type": "markdown",
   "metadata": {
    "slideshow": {
     "slide_type": "-"
    }
   },
   "source": [
    "Al definir nuestras propias funciones debemos saber identificar el **ámbito** de las variables. El ámbito es \"donde vive\" la variable. De esta forma, se definen dos tipos de variables y sus consecuentes ámbitos:\n",
    "\n",
    "- **Variable local:** son aquellas variables creadas dentro de una función (incluye a los parámetros) y tienen un ámbito local, vale decir, solo pueden ser usadas y modificadas dentro de la función.\n",
    "- **Variable global:** son aquellas variables definidas fuera de cualquier función. Tienen un ambito global, es decir, pueden ser utilizadas en cualquier parte del programa. Sin embargo, no pueden ser modificadas dentro de alguna función (en ese caso se crearía una variable local con el mismo nombre)."
   ]
  },
  {
   "cell_type": "markdown",
   "metadata": {
    "slideshow": {
     "slide_type": "slide"
    }
   },
   "source": [
    "**Variable global:** El valor de $\\pi$ se trata como variable **global**."
   ]
  },
  {
   "cell_type": "code",
   "execution_count": 5,
   "metadata": {
    "slideshow": {
     "slide_type": "-"
    }
   },
   "outputs": [],
   "source": [
    "PI = 3.14159265359\n",
    "\n",
    "def area(radio):    \n",
    "    return PI * radio ** 2"
   ]
  },
  {
   "cell_type": "code",
   "execution_count": 6,
   "metadata": {
    "slideshow": {
     "slide_type": "-"
    }
   },
   "outputs": [
    {
     "name": "stdout",
     "output_type": "stream",
     "text": [
      "El área de un círculo de radio 2 es: 12.56637061436\n"
     ]
    }
   ],
   "source": [
    "print(\"El área de un círculo de radio 2 es:\",area(2))"
   ]
  },
  {
   "cell_type": "code",
   "execution_count": 7,
   "metadata": {
    "slideshow": {
     "slide_type": "-"
    }
   },
   "outputs": [
    {
     "name": "stdout",
     "output_type": "stream",
     "text": [
      "El valor de π es: 3.14159265359\n"
     ]
    }
   ],
   "source": [
    "print(\"El valor de π es:\",PI)"
   ]
  },
  {
   "cell_type": "markdown",
   "metadata": {
    "slideshow": {
     "slide_type": "slide"
    }
   },
   "source": [
    "**Variable local:** El valor de $\\pi$ se trata como variable **local**."
   ]
  },
  {
   "cell_type": "code",
   "execution_count": 8,
   "metadata": {
    "slideshow": {
     "slide_type": "-"
    }
   },
   "outputs": [],
   "source": [
    "def area(radio):\n",
    "    pi = 3.14159265359\n",
    "    return pi * radio ** 2"
   ]
  },
  {
   "cell_type": "code",
   "execution_count": 9,
   "metadata": {
    "slideshow": {
     "slide_type": "-"
    }
   },
   "outputs": [
    {
     "name": "stdout",
     "output_type": "stream",
     "text": [
      "El área de un círculo de radio 2 es: 12.56637061436\n"
     ]
    }
   ],
   "source": [
    "print(\"El área de un círculo de radio 2 es:\",area(2))"
   ]
  },
  {
   "cell_type": "code",
   "execution_count": 10,
   "metadata": {
    "slideshow": {
     "slide_type": "-"
    }
   },
   "outputs": [
    {
     "ename": "NameError",
     "evalue": "name 'pi' is not defined",
     "output_type": "error",
     "traceback": [
      "\u001b[1;31m---------------------------------------------------------------------------\u001b[0m",
      "\u001b[1;31mNameError\u001b[0m                                 Traceback (most recent call last)",
      "\u001b[1;32m<ipython-input-10-5a742b432447>\u001b[0m in \u001b[0;36m<module>\u001b[1;34m\u001b[0m\n\u001b[1;32m----> 1\u001b[1;33m \u001b[0mprint\u001b[0m\u001b[1;33m(\u001b[0m\u001b[1;34m\"El valor de π es:\"\u001b[0m\u001b[1;33m,\u001b[0m\u001b[0mpi\u001b[0m\u001b[1;33m)\u001b[0m\u001b[1;33m\u001b[0m\u001b[1;33m\u001b[0m\u001b[0m\n\u001b[0m",
      "\u001b[1;31mNameError\u001b[0m: name 'pi' is not defined"
     ]
    }
   ],
   "source": [
    "print(\"El valor de π es:\",pi)"
   ]
  },
  {
   "cell_type": "markdown",
   "metadata": {
    "slideshow": {
     "slide_type": "slide"
    }
   },
   "source": [
    "# Diferencias entre `print()` y `return`"
   ]
  },
  {
   "cell_type": "markdown",
   "metadata": {
    "slideshow": {
     "slide_type": "-"
    }
   },
   "source": [
    "La función `print()` y la instrucción `return` pueden tener un comportamiento muy parecido, pero son **completamente** diferentes."
   ]
  },
  {
   "cell_type": "markdown",
   "metadata": {
    "slideshow": {
     "slide_type": "-"
    }
   },
   "source": [
    "* `return` es el **resultado de una función**, por lo tanto solo debe ir dentro de una función.\n",
    "* `print()` es una **salida de un programa**, puede ir tanto en una función (aunque no es recomendable) como en el código de un programa principal (el main)."
   ]
  },
  {
   "cell_type": "markdown",
   "metadata": {
    "slideshow": {
     "slide_type": "slide"
    }
   },
   "source": [
    "Volvamos a nuestra función de ejemplo usada anteriormente:"
   ]
  },
  {
   "cell_type": "code",
   "execution_count": 11,
   "metadata": {
    "slideshow": {
     "slide_type": "-"
    }
   },
   "outputs": [],
   "source": [
    "def suma(x,y):\n",
    "    return x+y"
   ]
  },
  {
   "cell_type": "markdown",
   "metadata": {
    "slideshow": {
     "slide_type": "-"
    }
   },
   "source": [
    "Al ejecutar la función no nos mostrará ningun resultado por pantalla, ya que solo estamos creando el \"*molde*\" de la función. **No la estamos usando aún**."
   ]
  },
  {
   "cell_type": "markdown",
   "metadata": {
    "slideshow": {
     "slide_type": "-"
    }
   },
   "source": [
    "Para mostrar el resultado de la función por pantalla, se debe llamar a la función y utilizar un `print()` para imprimir su resultado:"
   ]
  },
  {
   "cell_type": "code",
   "execution_count": 12,
   "metadata": {
    "slideshow": {
     "slide_type": "-"
    }
   },
   "outputs": [
    {
     "name": "stdout",
     "output_type": "stream",
     "text": [
      "3\n"
     ]
    }
   ],
   "source": [
    "print(suma(1,2))"
   ]
  },
  {
   "cell_type": "markdown",
   "metadata": {
    "slideshow": {
     "slide_type": "slide"
    }
   },
   "source": [
    "Sin embargo, si en lugar de utilizar `return` se utiliza un `print()` dentro de la función:"
   ]
  },
  {
   "cell_type": "code",
   "execution_count": 13,
   "metadata": {
    "slideshow": {
     "slide_type": "-"
    }
   },
   "outputs": [
    {
     "name": "stdout",
     "output_type": "stream",
     "text": [
      "3\n",
      "None\n"
     ]
    }
   ],
   "source": [
    "def suma(x,y):\n",
    "    print(x+y)\n",
    "\n",
    "print(suma(1,2))"
   ]
  },
  {
   "cell_type": "markdown",
   "metadata": {
    "slideshow": {
     "slide_type": "-"
    }
   },
   "source": [
    "La función retorna el tipo de dato `None` que significa literalmente \"Nada\", y ya no será posible guardar el resultado de la función porque se imprimirá y se perderá (la función pierde su propósito)."
   ]
  },
  {
   "cell_type": "markdown",
   "metadata": {
    "slideshow": {
     "slide_type": "slide"
    }
   },
   "source": [
    "Por lo tanto, como regla general:\n",
    "- No utilizaremos `input` dentro de una función. Las entradas que ingresan las personas que usan el programa son leídas en el código principal, fuera de las funciones.\n",
    "- No utilizaremos `print` dentro de una función. Las funciones entregan sus resultados a través de `return`, y en el código principal los resultados son mostrados a través de `print` de ser necesario."
   ]
  },
  {
   "cell_type": "markdown",
   "metadata": {
    "slideshow": {
     "slide_type": "slide"
    }
   },
   "source": [
    "La otra clara diferencia entre `print()` y `return` tiene que ver con la ejecución del código. El `return` termina automáticamente la ejecución del bloque de código dentro de la función."
   ]
  },
  {
   "cell_type": "markdown",
   "metadata": {
    "slideshow": {
     "slide_type": "-"
    }
   },
   "source": [
    "Entonces, por ejemplo, es posible encontrarse con la siguiente función:"
   ]
  },
  {
   "cell_type": "code",
   "execution_count": 14,
   "metadata": {
    "slideshow": {
     "slide_type": "-"
    }
   },
   "outputs": [],
   "source": [
    "def paridad(numero):\n",
    "    if numero % 2 == 0:\n",
    "        return \"par\"\n",
    "    return \"impar\""
   ]
  },
  {
   "cell_type": "code",
   "execution_count": 15,
   "metadata": {
    "slideshow": {
     "slide_type": "-"
    }
   },
   "outputs": [
    {
     "name": "stdout",
     "output_type": "stream",
     "text": [
      "impar\n",
      "par\n",
      "impar\n",
      "par\n"
     ]
    }
   ],
   "source": [
    "print(paridad(1))\n",
    "print(paridad(2))\n",
    "print(paridad(3))\n",
    "print(paridad(4))"
   ]
  }
 ],
 "metadata": {
  "anaconda-cloud": {},
  "celltoolbar": "Slideshow",
  "kernelspec": {
   "display_name": "Python 3",
   "language": "python",
   "name": "python3"
  },
  "language_info": {
   "codemirror_mode": {
    "name": "ipython",
    "version": 3
   },
   "file_extension": ".py",
   "mimetype": "text/x-python",
   "name": "python",
   "nbconvert_exporter": "python",
   "pygments_lexer": "ipython3",
   "version": "3.8.5"
  }
 },
 "nbformat": 4,
 "nbformat_minor": 1
}
