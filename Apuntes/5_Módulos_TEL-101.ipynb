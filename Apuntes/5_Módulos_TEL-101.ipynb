{
 "cells": [
  {
   "cell_type": "markdown",
   "metadata": {
    "slideshow": {
     "slide_type": "slide"
    }
   },
   "source": [
    "<div align=\"center\">\n",
    "<h2>TEL-101 Iniciación a la Programación</h2><br/>\n",
    "<h1>Módulos</h1>\n",
    "<br/><br/>\n",
    "Prof. Nicolás Torres<br/>\n",
    "<a href=\"mailto:nicolas.torresr@usm.cl\">nicolas.torresr@usm.cl</a><br/>\n",
    "Ingeniería Civil Telemática<br/>\n",
    "Departamento de Electrónica<br/>\n",
    "Universidad Técnica Federico Santa María\n",
    "</div>"
   ]
  },
  {
   "cell_type": "markdown",
   "metadata": {
    "slideshow": {
     "slide_type": "slide"
    }
   },
   "source": [
    "## Funciones Predeterminadas"
   ]
  },
  {
   "cell_type": "markdown",
   "metadata": {
    "slideshow": {
     "slide_type": "-"
    }
   },
   "source": [
    "Python incluye un conjunto de funciones cargadas por defecto (construidas con el lenguaje) que pueden ser utilizadas:\n",
    "* Entrada y Salida de datos: `input()` y `print()`\n",
    "* Transformadoras de datos: `int()`, `float()`, `list()`, `str()`, etc.\n",
    "* Funciones matemáticas simples: `round()`, `abs()`, `sum()`, `min()`, `max()`, etc."
   ]
  },
  {
   "cell_type": "markdown",
   "metadata": {
    "slideshow": {
     "slide_type": "slide"
    }
   },
   "source": [
    "### Ejemplos"
   ]
  },
  {
   "cell_type": "code",
   "execution_count": 1,
   "metadata": {
    "slideshow": {
     "slide_type": "-"
    }
   },
   "outputs": [
    {
     "name": "stdout",
     "output_type": "stream",
     "text": [
      "54\n",
      "56\n",
      "5.47\n"
     ]
    }
   ],
   "source": [
    "# redondear al entero par más cercano\n",
    "print(round(54.5))\n",
    "print(round(55.5))\n",
    "# redondear con 2 decimales\n",
    "print(round(5.475, 2))"
   ]
  },
  {
   "cell_type": "code",
   "execution_count": 2,
   "metadata": {
    "slideshow": {
     "slide_type": "-"
    }
   },
   "outputs": [
    {
     "name": "stdout",
     "output_type": "stream",
     "text": [
      "3\n"
     ]
    }
   ],
   "source": [
    "# valor absoluto\n",
    "print(abs(1-4))"
   ]
  },
  {
   "cell_type": "markdown",
   "metadata": {
    "slideshow": {
     "slide_type": "slide"
    }
   },
   "source": [
    "## Bibliotecas"
   ]
  },
  {
   "cell_type": "markdown",
   "metadata": {
    "slideshow": {
     "slide_type": "-"
    }
   },
   "source": [
    "* Existen muchas otras funciones implementadas en Python.\n",
    "* Sin embargo, no están disponibles de forma inmediata para su uso.\n",
    "* Se encuentran en archivos aparte, conocidos como **bibliotecas**.\n",
    "* Para acceder a estas funciones, es necesario incluir su código con la palabra reservada `import`."
   ]
  },
  {
   "cell_type": "markdown",
   "metadata": {
    "slideshow": {
     "slide_type": "slide"
    }
   },
   "source": [
    "Existen dos formas de importar funciones desde bibliotecas:\n",
    "* Importando la biblioteca completa, y utilizando el operador `.` al llamar a la función:\n",
    "```python\n",
    "import biblioteca\n",
    "biblioteca.funcion1()\n",
    "biblioteca.funcion2()\n",
    "```\n",
    "\n",
    "* Importando funciones específicas desde una biblioteca:\n",
    "```python\n",
    "from biblioteca import funcion1, funcion2\n",
    "funcion1()\n",
    "funcion2()\n",
    "```"
   ]
  },
  {
   "cell_type": "markdown",
   "metadata": {
    "slideshow": {
     "slide_type": "slide"
    }
   },
   "source": [
    "Por ahora (Unidad 4), vamos a trabajar con dos bibliotecas.. "
   ]
  },
  {
   "cell_type": "markdown",
   "metadata": {
    "slideshow": {
     "slide_type": "slide"
    }
   },
   "source": [
    "### Biblioteca `math`\n",
    "Permite acceder a funciones matemáticas como la raíz cuadrada, la constante $\\pi$, logaritmo, etc."
   ]
  },
  {
   "cell_type": "code",
   "execution_count": 3,
   "metadata": {
    "slideshow": {
     "slide_type": "slide"
    }
   },
   "outputs": [
    {
     "name": "stdout",
     "output_type": "stream",
     "text": [
      "𝜋 = 3.141592653589793\n",
      "sen(90) = 1.0\n",
      "cos(90) = 6.123233995736766e-17\n",
      "log(8,2)= 3.0\n"
     ]
    }
   ],
   "source": [
    "import math\n",
    "\n",
    "print(\"𝜋 =\",math.pi)\n",
    "print(\"sen(90) =\",math.sin(math.pi/2))\n",
    "print(\"cos(90) =\",math.cos(math.pi/2))\n",
    "print(\"log(8,2)=\",math.log(8,2))"
   ]
  },
  {
   "cell_type": "code",
   "execution_count": 4,
   "metadata": {
    "slideshow": {
     "slide_type": "slide"
    }
   },
   "outputs": [
    {
     "name": "stdout",
     "output_type": "stream",
     "text": [
      "𝜋 = 3.141592653589793\n",
      "sen(90) = 1.0\n",
      "cos(90) = 6.123233995736766e-17\n",
      "log(8,2)= 3.0\n"
     ]
    }
   ],
   "source": [
    "from math import pi, sin, cos, log\n",
    "\n",
    "print(\"𝜋 =\",pi)\n",
    "print(\"sen(90) =\",sin(pi/2))\n",
    "print(\"cos(90) =\",cos(pi/2))\n",
    "print(\"log(8,2)=\",log(8,2))"
   ]
  },
  {
   "cell_type": "markdown",
   "metadata": {
    "slideshow": {
     "slide_type": "-"
    }
   },
   "source": [
    "Al importar de esta forma, debe tener cuidado con la coincidencia de nombres de variables y funciones en su código."
   ]
  },
  {
   "cell_type": "markdown",
   "metadata": {
    "slideshow": {
     "slide_type": "slide"
    }
   },
   "source": [
    "También es posible agregar bibliotecas y/o sus funciones con un **alias**."
   ]
  },
  {
   "cell_type": "code",
   "execution_count": 5,
   "metadata": {
    "slideshow": {
     "slide_type": "-"
    }
   },
   "outputs": [
    {
     "name": "stdout",
     "output_type": "stream",
     "text": [
      "La raiz cuadrada de 16 es 4.0\n"
     ]
    }
   ],
   "source": [
    "import math as m\n",
    "print(\"La raiz cuadrada de 16 es\",m.sqrt(16))"
   ]
  },
  {
   "cell_type": "code",
   "execution_count": 6,
   "metadata": {
    "slideshow": {
     "slide_type": "-"
    }
   },
   "outputs": [
    {
     "name": "stdout",
     "output_type": "stream",
     "text": [
      "La raiz cuadrada de 16 es 4.0\n"
     ]
    }
   ],
   "source": [
    "from math import sqrt as raiz\n",
    "print(\"La raiz cuadrada de 16 es\",raiz(16))"
   ]
  },
  {
   "cell_type": "markdown",
   "metadata": {
    "slideshow": {
     "slide_type": "slide"
    }
   },
   "source": [
    "### Biblioteca `random`\n",
    "Se utiliza para generar números aleatorios (al azar)."
   ]
  },
  {
   "cell_type": "code",
   "execution_count": 7,
   "metadata": {
    "slideshow": {
     "slide_type": "slide"
    }
   },
   "outputs": [],
   "source": [
    "from random import randint, choice, shuffle"
   ]
  },
  {
   "cell_type": "code",
   "execution_count": 8,
   "metadata": {
    "slideshow": {
     "slide_type": "-"
    }
   },
   "outputs": [
    {
     "name": "stdout",
     "output_type": "stream",
     "text": [
      "5\n",
      "8\n",
      "3\n"
     ]
    }
   ],
   "source": [
    "print(randint(1,10))\n",
    "print(randint(1,10))\n",
    "print(randint(1,10))"
   ]
  },
  {
   "cell_type": "code",
   "execution_count": 9,
   "metadata": {
    "slideshow": {
     "slide_type": "slide"
    }
   },
   "outputs": [
    {
     "name": "stdout",
     "output_type": "stream",
     "text": [
      "e\n",
      "a\n",
      "b\n"
     ]
    }
   ],
   "source": [
    "print(choice(['a','b','c','d','e','f']))\n",
    "print(choice(['a','b','c','d','e','f']))\n",
    "print(choice(['a','b','c','d','e','f']))"
   ]
  },
  {
   "cell_type": "code",
   "execution_count": 10,
   "metadata": {
    "slideshow": {
     "slide_type": "slide"
    }
   },
   "outputs": [
    {
     "name": "stdout",
     "output_type": "stream",
     "text": [
      "[4, 5, 3, 2, 1]\n"
     ]
    }
   ],
   "source": [
    "lista = [1,2,3,4,5]\n",
    "shuffle(lista)\n",
    "print(lista)"
   ]
  },
  {
   "cell_type": "markdown",
   "metadata": {
    "slideshow": {
     "slide_type": "slide"
    }
   },
   "source": [
    "### Otras bibliotecas de interés para el futuro\n",
    "\n",
    "* `TensorFlow`: Para aprendizaje automático.\n",
    "* `Keras`: Redes Neuronales.\n",
    "* `matplotlib`: Para gráficas en general (https://matplotlib.org).\n",
    "* `numpy`: Para funciones matemáticas avanzadas (https://www.numpy.org).\n",
    "* `seaborn`: Para visualización de datos (basada en matplotlib).\n",
    "* `scipy`: Estadística y y algoritmos matemáticos.\n",
    "* `sklearn`: Para aprendizaje automático.\n",
    "* `pandas`: Para manipulación y análisis de datos.\n",
    "* `os`: Para interactuar con el Sistema Operativo.\n",
    "\n",
    "Además, un usuario puede crear sus propios módulos."
   ]
  },
  {
   "cell_type": "markdown",
   "metadata": {
    "slideshow": {
     "slide_type": "slide"
    }
   },
   "source": [
    "## Creación de módulos\n",
    "En un archivo auxiliar, ubicado en la misma ruta donde tiene su `main.py`, puede tener definidas sus funciones y luego importarlas dentro del archivo principal. Esto permite modularizar el código y facilita la depuración (identificación y corrección de errores).\n",
    "\n",
    "<div align=\"center\">\n",
    "<img src=\"images/modules.png\" alt=\"\" width=\"100%\" align=\"center\" />\n",
    "</div>"
   ]
  }
 ],
 "metadata": {
  "anaconda-cloud": {},
  "celltoolbar": "Slideshow",
  "kernelspec": {
   "display_name": "Python 3",
   "language": "python",
   "name": "python3"
  },
  "language_info": {
   "codemirror_mode": {
    "name": "ipython",
    "version": 3
   },
   "file_extension": ".py",
   "mimetype": "text/x-python",
   "name": "python",
   "nbconvert_exporter": "python",
   "pygments_lexer": "ipython3",
   "version": "3.8.5"
  }
 },
 "nbformat": 4,
 "nbformat_minor": 1
}
