{
 "cells": [
  {
   "cell_type": "markdown",
   "metadata": {
    "slideshow": {
     "slide_type": "slide"
    }
   },
   "source": [
    "<div align=\"center\">\n",
    "<h2>TEL-101 Iniciación a la Programación</h2><br/>\n",
    "<h1>Lectura de Archivos</h1>\n",
    "<br/><br/>\n",
    "Prof. Nicolás Torres<br/>\n",
    "<a href=\"mailto:nicolas.torresr@usm.cl\">nicolas.torresr@usm.cl</a><br/>\n",
    "Ingeniería Civil Telemática<br/>\n",
    "Departamento de Electrónica<br/>\n",
    "Universidad Técnica Federico Santa María\n",
    "</div>"
   ]
  },
  {
   "cell_type": "markdown",
   "metadata": {
    "slideshow": {
     "slide_type": "slide"
    }
   },
   "source": [
    "# Archivos de texto\n",
    "\n",
    "Un archivo de texto es un documento digital conformado por caracteres en distintas líneas. Soportan operaciones de **lectura** y **escritura**."
   ]
  },
  {
   "cell_type": "markdown",
   "metadata": {
    "slideshow": {
     "slide_type": "slide"
    }
   },
   "source": [
    "## Archivos de texto en Python\n",
    "\n",
    "Antes de poder realizar cualquier operación de lectura o escritura hay que abrir el archivo con `open()` indicando su nombre completo y modo de acceso:\n",
    "\n",
    "```python\n",
    "archivo = open(nombre, modo)\n",
    "```\n",
    "\n",
    "- `archivo` es una variable que referencia el contenido del archivo.\n",
    "- `nombre` es un texto con el nombre y extensión del archivo.\n",
    "\n",
    "Asegúrese que su archivo de texto se encuentre en la misma carpeta donde tiene su archivo <tt>\".py\"</tt>. De lo contrario, indique toda la ruta completa en el nombre."
   ]
  },
  {
   "cell_type": "markdown",
   "metadata": {
    "slideshow": {
     "slide_type": "slide"
    }
   },
   "source": [
    "- `modo` es un texto que indica para qué se usará el archivo:\n",
    "    - `'r'` (default): solo lectura.\n",
    "    - `'w'` : sobreescritura a partir del comienzo.\n",
    "    - `'a'` : escritura desde el final."
   ]
  },
  {
   "cell_type": "markdown",
   "metadata": {
    "slideshow": {
     "slide_type": "-"
    }
   },
   "source": [
    "- En modo lectura, el archivo debe existir.\n",
    "- En modo escritura, si el archivo no existe, se creará."
   ]
  },
  {
   "cell_type": "markdown",
   "metadata": {
    "slideshow": {
     "slide_type": "slide"
    }
   },
   "source": [
    "## Cerrar el archivo\n",
    "\n",
    "Cuando termine de trabajar con un archivo no debe olvidar cerrarlo con el método `close()`. De no hacerlo, la información podría perderse:\n",
    "\n",
    "```python\n",
    "archivo.close()\n",
    "```"
   ]
  },
  {
   "cell_type": "markdown",
   "metadata": {
    "slideshow": {
     "slide_type": "slide"
    }
   },
   "source": [
    "# Excepción de archivo no encontrado\n",
    "\n",
    "Cuando intente abrir un archivo con la función `open()` y aparezca la excepción `FileNotFoundError` es porque no se encuentra el archivo que está intentando abrir."
   ]
  },
  {
   "cell_type": "code",
   "execution_count": 1,
   "metadata": {
    "slideshow": {
     "slide_type": "-"
    }
   },
   "outputs": [
    {
     "ename": "FileNotFoundError",
     "evalue": "[Errno 2] No such file or directory: 'ensayo.txt'",
     "output_type": "error",
     "traceback": [
      "\u001b[0;31m---------------------------------------------------------------------------\u001b[0m",
      "\u001b[0;31mFileNotFoundError\u001b[0m                         Traceback (most recent call last)",
      "\u001b[0;32m<ipython-input-1-c655fb1ba1d2>\u001b[0m in \u001b[0;36m<module>\u001b[0;34m\u001b[0m\n\u001b[0;32m----> 1\u001b[0;31m \u001b[0marchivo\u001b[0m \u001b[0;34m=\u001b[0m \u001b[0mopen\u001b[0m\u001b[0;34m(\u001b[0m\u001b[0;34m'ensayo.txt'\u001b[0m\u001b[0;34m,\u001b[0m \u001b[0;34m'r'\u001b[0m\u001b[0;34m)\u001b[0m\u001b[0;34m\u001b[0m\u001b[0;34m\u001b[0m\u001b[0m\n\u001b[0m",
      "\u001b[0;31mFileNotFoundError\u001b[0m: [Errno 2] No such file or directory: 'ensayo.txt'"
     ]
    }
   ],
   "source": [
    "archivo = open('ensayo.txt', 'r')"
   ]
  },
  {
   "cell_type": "markdown",
   "metadata": {
    "slideshow": {
     "slide_type": "slide"
    }
   },
   "source": [
    "Para evitar este error se puede utilizar la siguiente excepción antes de abrir un archivo:"
   ]
  },
  {
   "cell_type": "code",
   "execution_count": 2,
   "metadata": {
    "slideshow": {
     "slide_type": "-"
    }
   },
   "outputs": [
    {
     "name": "stdout",
     "output_type": "stream",
     "text": [
      "El archivo no se encuentra.\n"
     ]
    }
   ],
   "source": [
    "try:\n",
    "    archivo = open('ensayo.txt', 'r')\n",
    "except:\n",
    "    print('El archivo no se encuentra.')"
   ]
  },
  {
   "cell_type": "markdown",
   "metadata": {
    "slideshow": {
     "slide_type": "slide"
    }
   },
   "source": [
    "# Lectura de Archivos en Python\n",
    "\n",
    "Un archivo se lee **línea por línea**, una por una, y en orden, a través de un ciclo `for` de la siguiente forma:\n",
    "\n",
    "```python\n",
    "for linea in archivo:\n",
    "    ...\n",
    "```\n",
    "\n",
    "donde la variable `linea` es un *string* con todos los caracteres de la línea actual (se incluyen caracteres especiales como salto de línea)."
   ]
  },
  {
   "cell_type": "markdown",
   "metadata": {
    "slideshow": {
     "slide_type": "slide"
    }
   },
   "source": [
    "Consideraciones importantes:\n",
    "- Los archivos se recorren en orden, comenzando desde la primera línea hasta la última.\n",
    "- Al terminar el ciclo `for` que lee el archivo, no puede volver a recorrerse a menos que se cierre y vuelva a abrirse."
   ]
  },
  {
   "cell_type": "markdown",
   "metadata": {
    "slideshow": {
     "slide_type": "slide"
    }
   },
   "source": [
    "### Ejemplo 1\n",
    "Leer el archivo <tt>quijote.txt</tt> y mostrar por pantalla su contenido.\n",
    "```\n",
    "En un lugar\n",
    "de la Mancha\n",
    "de cuyo nombre\n",
    "no quiero acordarme\n",
    "no ha mucho\n",
    "```"
   ]
  },
  {
   "cell_type": "code",
   "execution_count": 3,
   "metadata": {
    "slideshow": {
     "slide_type": "slide"
    }
   },
   "outputs": [
    {
     "name": "stdout",
     "output_type": "stream",
     "text": [
      "En un lugar\n",
      "\n",
      "de la Mancha\n",
      "\n",
      "de cuyo nombre\n",
      "\n",
      "no quiero acordarme\n",
      "\n",
      "no ha mucho\n"
     ]
    }
   ],
   "source": [
    "archivo = open('quijote.txt', 'r')\n",
    "for linea in archivo:\n",
    "    print(linea)\n",
    "archivo.close()"
   ]
  },
  {
   "cell_type": "markdown",
   "metadata": {
    "slideshow": {
     "slide_type": "-"
    }
   },
   "source": [
    "Se imprime un salto de línea porque cada línea del archivo termina con el caracter especial `\"\\n\"`."
   ]
  },
  {
   "cell_type": "markdown",
   "metadata": {
    "slideshow": {
     "slide_type": "slide"
    }
   },
   "source": [
    "Utilizar el método de procesamiento de texto `strip()` para remover ese caracter especial."
   ]
  },
  {
   "cell_type": "code",
   "execution_count": 4,
   "metadata": {
    "slideshow": {
     "slide_type": "-"
    }
   },
   "outputs": [
    {
     "name": "stdout",
     "output_type": "stream",
     "text": [
      "EN UN LUGAR\n",
      "DE LA MANCHA\n",
      "DE CUYO NOMBRE\n",
      "NO QUIERO ACORDARME\n",
      "NO HA MUCHO\n"
     ]
    }
   ],
   "source": [
    "archivo = open('quijote.txt', 'r')\n",
    "for linea in archivo:\n",
    "    print(linea.strip().upper())\n",
    "archivo.close()"
   ]
  },
  {
   "cell_type": "markdown",
   "metadata": {
    "slideshow": {
     "slide_type": "slide"
    }
   },
   "source": [
    "### Ejemplo 2\n",
    "Leer el archivo <tt>numeros.txt</tt>, que contiene un número entero en cada línea, y mostrar por pantalla la suma total.\n",
    "```\n",
    "5\n",
    "12\n",
    "6\n",
    "-9\n",
    "5\n",
    "-10\n",
    "4\n",
    "```"
   ]
  },
  {
   "cell_type": "code",
   "execution_count": 5,
   "metadata": {
    "slideshow": {
     "slide_type": "slide"
    }
   },
   "outputs": [
    {
     "name": "stdout",
     "output_type": "stream",
     "text": [
      "13\n"
     ]
    }
   ],
   "source": [
    "archivo = open('numeros.txt', 'r')\n",
    "suma = 0\n",
    "for linea in archivo:\n",
    "    suma += int(linea.strip())\n",
    "print(suma)\n",
    "archivo.close()"
   ]
  },
  {
   "cell_type": "markdown",
   "metadata": {
    "slideshow": {
     "slide_type": "-"
    }
   },
   "source": [
    "- Todo el contenido del archivo es considerado texto, por lo tanto, se almacena en el *string* `linea`. \n",
    "- En caso de trabajar con dígitos matemáticos puede ser necesario transformar a `int` o `float`."
   ]
  },
  {
   "cell_type": "markdown",
   "metadata": {
    "slideshow": {
     "slide_type": "slide"
    }
   },
   "source": [
    "### Archivos con separadores\n",
    "\n",
    "Muchas veces, los archivos tienen cierta estructura definida en todas sus lineas. Por ejemplo, cada línea del archivo <tt>productos.csv</tt> contiene el siguiente formato: `CÓDIGO,PRODUCTO,PRECIO`.\n",
    "\n",
    "```\n",
    "B0164,Calcetines,5000\n",
    "GFS36,Bicicleta,100000\n",
    "HG1267,Pan de pascua,900\n",
    "LK6579,Chocolate,1000\n",
    "MA2140,Perfume,2000\n",
    "...\n",
    "```"
   ]
  },
  {
   "cell_type": "markdown",
   "metadata": {
    "slideshow": {
     "slide_type": "slide"
    }
   },
   "source": [
    "### Ejemplo 3\n",
    "Encontrar el producto más caro en el archivo anterior.\n",
    "\n",
    "```\n",
    "B0164,Calcetines,5000\n",
    "GFS36,Bicicleta,100000\n",
    "HG1267,Pan de pascua,900\n",
    "LK6579,Chocolate,1000\n",
    "MA2140,Perfume,2000\n",
    "```"
   ]
  },
  {
   "cell_type": "markdown",
   "metadata": {
    "slideshow": {
     "slide_type": "slide"
    }
   },
   "source": [
    "El método `split()` permite separar una linea de texto, indicando el separador."
   ]
  },
  {
   "cell_type": "code",
   "execution_count": 6,
   "metadata": {
    "slideshow": {
     "slide_type": "-"
    }
   },
   "outputs": [
    {
     "name": "stdout",
     "output_type": "stream",
     "text": [
      "El producto más caro es Bicicleta a $100000.\n"
     ]
    }
   ],
   "source": [
    "archivo = open('productos.csv', 'r')\n",
    "mayor = -1\n",
    "for linea in archivo:\n",
    "    lista = linea.strip().split(',')\n",
    "    producto = lista[1]\n",
    "    precio = int(lista[2])\n",
    "    if precio > mayor:\n",
    "        mayor = precio\n",
    "        caro = producto\n",
    "archivo.close()\n",
    "print(f\"El producto más caro es {caro} a ${mayor}.\")"
   ]
  },
  {
   "cell_type": "markdown",
   "metadata": {
    "slideshow": {
     "slide_type": "-"
    }
   },
   "source": [
    "Recuerde que el método `split()` se aplica sobre un *string* pero retorna una lista."
   ]
  },
  {
   "cell_type": "markdown",
   "metadata": {
    "slideshow": {
     "slide_type": "slide"
    }
   },
   "source": [
    "### Ejemplo 4\n",
    "Leer el archivo <tt>himno.txt</tt> y mostrar por pantalla el número de letras, palabras y líneas.\n",
    "```\n",
    "Puro Chile\n",
    "es tu cielo\n",
    "azulado\n",
    "Puras brisas te cruzan\n",
    "tu campo de flores bordado\n",
    "```"
   ]
  },
  {
   "cell_type": "code",
   "execution_count": 7,
   "metadata": {
    "scrolled": true,
    "slideshow": {
     "slide_type": "slide"
    }
   },
   "outputs": [
    {
     "name": "stdout",
     "output_type": "stream",
     "text": [
      "Letras: 66\n",
      "Palabras: 15\n",
      "Líneas: 5\n"
     ]
    }
   ],
   "source": [
    "archivo = open('himno.txt', 'r')\n",
    "letras = 0\n",
    "palabras = 0\n",
    "lineas = 0\n",
    "for linea in archivo:\n",
    "    lineas += 1\n",
    "    palabras += len(linea.strip().split())\n",
    "    for palabra in linea.strip().split():\n",
    "        letras += len(palabra)\n",
    "print('Letras:', letras)\n",
    "print('Palabras:', palabras)\n",
    "print('Líneas:', lineas)\n",
    "archivo.close()"
   ]
  }
 ],
 "metadata": {
  "celltoolbar": "Slideshow",
  "kernelspec": {
   "display_name": "Python 3",
   "language": "python",
   "name": "python3"
  },
  "language_info": {
   "codemirror_mode": {
    "name": "ipython",
    "version": 3
   },
   "file_extension": ".py",
   "mimetype": "text/x-python",
   "name": "python",
   "nbconvert_exporter": "python",
   "pygments_lexer": "ipython3",
   "version": "3.8.8"
  }
 },
 "nbformat": 4,
 "nbformat_minor": 4
}
